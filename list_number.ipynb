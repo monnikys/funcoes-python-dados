{
 "cells": [
  {
   "cell_type": "markdown",
   "id": "bf8dbd6e",
   "metadata": {},
   "source": [
    "Crie um programa que leia a seguinte lista de números e escolha um número desta aleatoriamente."
   ]
  },
  {
   "cell_type": "markdown",
   "id": "330a7900",
   "metadata": {},
   "source": [
    "lista = [8, 12, 54, 23, 43, 1, 90, 87, 105, 77]"
   ]
  },
  {
   "cell_type": "code",
   "execution_count": 4,
   "id": "fb56e51a",
   "metadata": {},
   "outputs": [
    {
     "name": "stdout",
     "output_type": "stream",
     "text": [
      "Número escolhido: 90\n"
     ]
    }
   ],
   "source": [
    "import random\n",
    "\n",
    "# Lista fornecida\n",
    "lista = [8, 12, 54, 23, 43, 1, 90, 87, 105, 77]\n",
    "\n",
    "# Escolhe um número aleatoriamente da lista (CHOICE)\n",
    "numero_escolhido = random.choice(lista)\n",
    "\n",
    "print(\"Número escolhido:\", numero_escolhido)\n"
   ]
  }
 ],
 "metadata": {
  "kernelspec": {
   "display_name": "Python 3",
   "language": "python",
   "name": "python3"
  },
  "language_info": {
   "codemirror_mode": {
    "name": "ipython",
    "version": 3
   },
   "file_extension": ".py",
   "mimetype": "text/x-python",
   "name": "python",
   "nbconvert_exporter": "python",
   "pygments_lexer": "ipython3",
   "version": "3.12.10"
  }
 },
 "nbformat": 4,
 "nbformat_minor": 5
}
