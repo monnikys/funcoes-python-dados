{
 "cells": [
  {
   "cell_type": "markdown",
   "id": "e7e3aa2c",
   "metadata": {},
   "source": [
    "Crie a função que leia a lista abaixo e retorne uma nova lista com os múltiplos de 3:"
   ]
  },
  {
   "cell_type": "markdown",
   "id": "6d4f695f",
   "metadata": {},
   "source": [
    "[97, 80, 94, 88, 80, 1, 16, 53, 62, 32, 24, 99]"
   ]
  },
  {
   "cell_type": "code",
   "execution_count": 2,
   "id": "f3563165",
   "metadata": {},
   "outputs": [
    {
     "name": "stdout",
     "output_type": "stream",
     "text": [
      "Múltiplos de 3 encontrados: [24, 99]\n"
     ]
    }
   ],
   "source": [
    "def filtrar_multiplos_de_3(lista):\n",
    "    nova_lista = [num for num in lista if num % 3 == 0]\n",
    "    return nova_lista\n",
    "\n",
    "# Lista fornecida\n",
    "numeros = [97, 80, 94, 88, 80, 1, 16, 53, 62, 32, 24, 99]\n",
    "\n",
    "# Chama a função e salva na variável mult_3\n",
    "mult_3 = filtrar_multiplos_de_3(numeros)\n",
    "\n",
    "print(\"Múltiplos de 3 encontrados:\", mult_3)\n"
   ]
  },
  {
   "cell_type": "markdown",
   "id": "a300ffd2",
   "metadata": {},
   "source": [
    "✅ Explicação:\n",
    "\n",
    "Usamos list comprehension para criar uma nova lista.\n",
    "\n",
    "A condição num % 3 == 0 garante que apenas múltiplos de 3 sejam incluídos."
   ]
  }
 ],
 "metadata": {
  "kernelspec": {
   "display_name": "Python 3",
   "language": "python",
   "name": "python3"
  },
  "language_info": {
   "codemirror_mode": {
    "name": "ipython",
    "version": 3
   },
   "file_extension": ".py",
   "mimetype": "text/x-python",
   "name": "python",
   "nbconvert_exporter": "python",
   "pygments_lexer": "ipython3",
   "version": "3.12.10"
  }
 },
 "nbformat": 4,
 "nbformat_minor": 5
}
