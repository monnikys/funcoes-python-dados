{
 "cells": [
  {
   "cell_type": "markdown",
   "id": "77a27fd3",
   "metadata": {},
   "source": [
    "Para atender a uma demanda de uma instituição de ensino para a análise do desempenho de seus(suas) estudantes, você precisa criar uma função que receba uma lista de 4 notas e retorne:\n",
    "\n",
    "maior nota\n",
    "menor nota\n",
    "média\n",
    "situação (Aprovado(a) ou Reprovado(a))\n",
    "Para testar o comportamento da função, os dados podem ser exibidos em um texto:\n",
    "\n",
    "\"O(a) estudante obteve uma média de [media], com a sua maior nota de [maior] pontos e a menor nota de [menor] pontos e foi [situacao]\""
   ]
  },
  {
   "cell_type": "code",
   "execution_count": 3,
   "id": "7b129e09",
   "metadata": {},
   "outputs": [
    {
     "name": "stdout",
     "output_type": "stream",
     "text": [
      "O(a) estudante obteve uma média de 7.50, com a sua maior nota de 9.0 pontos e a menor nota de 5.5 pontos e foi Aprovado(a)\n"
     ]
    }
   ],
   "source": [
    "def analisar_desempenho(notas):\n",
    "    maior = max(notas)\n",
    "    menor = min(notas)\n",
    "    media = sum(notas) / len(notas)\n",
    "    situacao = \"Aprovado(a)\" if media >= 6 else \"Reprovado(a)\"\n",
    "    \n",
    "    return maior, menor, media, situacao\n",
    "\n",
    "\n",
    "# Exemplo de uso:\n",
    "notas_estudante = [7.5, 8.0, 5.5, 9.0]\n",
    "maior, menor, media, situacao = analisar_desempenho(notas_estudante)\n",
    "\n",
    "print(f\"O(a) estudante obteve uma média de {media:.2f}, com a sua maior nota de {maior} pontos e a menor nota de {menor} pontos e foi {situacao}\")\n"
   ]
  },
  {
   "cell_type": "markdown",
   "id": "49bf06a2",
   "metadata": {},
   "source": [
    "✅ Explicação:\n",
    "\n",
    "max(notas) → retorna a maior nota.\n",
    "\n",
    "min(notas) → retorna a menor nota.\n",
    "\n",
    "sum(notas)/len(notas) → calcula a média.\n",
    "\n",
    "Situação: considera aprovado(a) se a média for maior ou igual a 6, caso contrário, reprovado(a)."
   ]
  }
 ],
 "metadata": {
  "kernelspec": {
   "display_name": "Python 3",
   "language": "python",
   "name": "python3"
  },
  "language_info": {
   "codemirror_mode": {
    "name": "ipython",
    "version": 3
   },
   "file_extension": ".py",
   "mimetype": "text/x-python",
   "name": "python",
   "nbconvert_exporter": "python",
   "pygments_lexer": "ipython3",
   "version": "3.12.10"
  }
 },
 "nbformat": 4,
 "nbformat_minor": 5
}
