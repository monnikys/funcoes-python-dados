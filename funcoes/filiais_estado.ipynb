{
 "cells": [
  {
   "cell_type": "markdown",
   "id": "7855d1fd",
   "metadata": {},
   "source": [
    "Uma empresa possui filiais espalhadas nos Estados da região Sudeste do Brasil. Em uma das tabelas de cadastro das filiais há uma coluna contendo a informação de qual é o Estado a que pertence: estados = ['SP', 'ES', 'MG', 'MG', 'SP', 'MG', 'ES', 'ES', 'ES', 'SP', 'SP', 'MG', 'ES', 'SP', 'RJ', 'MG', 'RJ', 'SP', 'MG', 'SP', 'ES', 'SP', 'MG'].\n",
    "\n",
    "A empresa sempre está abrindo novas filiais, de modo que a tabela está constantemente recebendo novos registros e o gestor gostaria de possuir a informação atualizada da quantidade de filiais em cada Estado.\n",
    "\n",
    "A partir da coluna com a informação dos Estados, crie um dicionário usando dict comprehension com a chave sendo o nome de um Estado e o valor sendo a contagem de vezes em que o Estado aparece na lista.\n",
    "\n",
    "Dica: Você pode fazer um passo intermediário para gerar uma lista de listas em que cada uma das listas possui o nome de apenas um Estado com valores repetidos."
   ]
  },
  {
   "cell_type": "code",
   "execution_count": 1,
   "id": "6c50a5e2",
   "metadata": {},
   "outputs": [
    {
     "name": "stdout",
     "output_type": "stream",
     "text": [
      "{'ES': 6, 'MG': 7, 'RJ': 2, 'SP': 8}\n"
     ]
    }
   ],
   "source": [
    "# Lista de estados\n",
    "estados = ['SP', 'ES', 'MG', 'MG', 'SP', 'MG', 'ES', 'ES', 'ES', 'SP', \n",
    "           'SP', 'MG', 'ES', 'SP', 'RJ', 'MG', 'RJ', 'SP', 'MG', 'SP', \n",
    "           'ES', 'SP', 'MG']\n",
    "\n",
    "# Gera o dicionário com a contagem de filiais por estado\n",
    "contagem_filiais = {estado: estados.count(estado) for estado in set(estados)}\n",
    "\n",
    "# Exibe o resultado\n",
    "print(contagem_filiais)\n"
   ]
  },
  {
   "cell_type": "markdown",
   "id": "576e0c05",
   "metadata": {},
   "source": [
    "✅ Explicação:\n",
    "\n",
    "set(estados) → obtém os estados únicos na lista, evitando repetir chaves no dicionário.\n",
    "\n",
    "estados.count(estado) → conta quantas vezes cada estado aparece na lista.\n",
    "\n",
    "{estado: estados.count(estado) for estado in set(estados)} → cria o dicionário com estado como chave e a contagem como valor."
   ]
  }
 ],
 "metadata": {
  "kernelspec": {
   "display_name": "Python 3",
   "language": "python",
   "name": "python3"
  },
  "language_info": {
   "codemirror_mode": {
    "name": "ipython",
    "version": 3
   },
   "file_extension": ".py",
   "mimetype": "text/x-python",
   "name": "python",
   "nbconvert_exporter": "python",
   "pygments_lexer": "ipython3",
   "version": "3.12.10"
  }
 },
 "nbformat": 4,
 "nbformat_minor": 5
}
