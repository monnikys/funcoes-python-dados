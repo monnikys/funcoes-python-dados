{
 "cells": [
  {
   "cell_type": "markdown",
   "id": "d6e39b8c",
   "metadata": {},
   "source": [
    "Você iniciou um estágio em uma empresa que trabalha com processamento de linguagem natural (NLP). Sua líder requisitou que você criasse um trecho de código que recebe uma frase digitada pela pessoa usuária e filtre apenas as palavras com tamanho maior ou igual a 5, exibindo-as em uma lista. Essa demanda é voltada para a análise do padrão de comportamento de pessoas na escrita de palavras acima dessa quantidade de caracteres.\n",
    "\n",
    "Dica: utilize as funções lambda e filter() para filtrar essas palavras. Lembrando que a função embutida filter() recebe uma função (no nosso exemplo uma função lambda) e filtra um iterável de acordo com a função. Para tratar a frase use replace() para trocar a ',' '.', '!' e '?' por espaço.\n",
    "\n",
    "Use a frase \"Aprender Python aqui na Alura é muito bom\" para testar o código."
   ]
  },
  {
   "cell_type": "code",
   "execution_count": 1,
   "id": "328d85a0",
   "metadata": {},
   "outputs": [
    {
     "name": "stdout",
     "output_type": "stream",
     "text": [
      "['Aprender', 'Python', 'Alura', 'muito']\n"
     ]
    }
   ],
   "source": [
    "# Frase de teste\n",
    "frase = \"Aprender Python aqui na Alura é muito bom\"\n",
    "\n",
    "# Substitui pontuações por espaço\n",
    "for char in \",.!?\":\n",
    "    frase = frase.replace(char, \" \")\n",
    "\n",
    "# Divide a frase em palavras\n",
    "palavras = frase.split()\n",
    "\n",
    "# Filtra palavras com tamanho maior ou igual a 5 usando lambda e filter\n",
    "palavras_grandes = list(filter(lambda p: len(p) >= 5, palavras))\n",
    "\n",
    "# Exibe o resultado\n",
    "print(palavras_grandes)\n"
   ]
  },
  {
   "cell_type": "markdown",
   "id": "fada00be",
   "metadata": {},
   "source": [
    "✅ Explicação:\n",
    "\n",
    "replace() → substitui caracteres de pontuação por espaço para evitar palavras grudadas.\n",
    "\n",
    "split() → divide a frase em uma lista de palavras.\n",
    "\n",
    "filter(lambda p: len(p) >= 5, palavras) → filtra apenas as palavras com 5 ou mais caracteres.\n",
    "\n",
    "list() → converte o resultado de filter() em lista para exibição."
   ]
  }
 ],
 "metadata": {
  "kernelspec": {
   "display_name": "Python 3",
   "language": "python",
   "name": "python3"
  },
  "language_info": {
   "codemirror_mode": {
    "name": "ipython",
    "version": 3
   },
   "file_extension": ".py",
   "mimetype": "text/x-python",
   "name": "python",
   "nbconvert_exporter": "python",
   "pygments_lexer": "ipython3",
   "version": "3.12.10"
  }
 },
 "nbformat": 4,
 "nbformat_minor": 5
}
