{
 "cells": [
  {
   "cell_type": "markdown",
   "id": "b8a98d8f",
   "metadata": {},
   "source": [
    "Você está trabalhando com processamento de linguagem natural (NLP) e, dessa vez, sua líder requisitou que você criasse um trecho de código que recebe uma lista com as palavras separadas de uma frase gerada pelo ChatGPT.\n",
    "\n",
    "Você precisa criar uma função que avalia cada palavra desse texto e verificar se o tratamento para retirar os símbolos de pontuação (',' '.', '!' e '?') foi realizado. Caso contrário, será lançada uma exceção do tipo ValueError apontando o 1º caso em que foi detectado o uso de uma pontuação por meio da frase \"O texto apresenta pontuações na palavra \"[palavra]\".\". Essa demanda é voltada para a análise do padrão de frases geradas pela inteligência artificial.\n",
    "\n",
    "Dica: Para verificar se uma ou mais das pontuações estão presentes em cada palavra, utilize a palavra chave or na condição if. Por exemplo, 'a' in 'alura' or 'b' in 'alura'… Saída: True\n",
    "\n",
    "Os dados para o teste do código são:\n",
    "\n",
    "Lista tratada:\n",
    "lista_tratada = ['Python', 'é', 'uma', 'linguagem', 'de', 'programação', 'poderosa', 'versátil',\n",
    "                  'e', 'fácil', 'de', 'aprender', 'utilizada', 'em', 'diversos', 'campos', 'desde',\n",
    "                  'análise', 'de', 'dados', 'até', 'inteligência', 'artificial']\n",
    "\n",
    "Lista não tratada:\n",
    "lista_nao_tratada = ['Python', 'é', 'uma', 'linguagem', 'de', 'programação', 'poderosa,', 'versátil',\n",
    "                  'e', 'fácil,', 'de', 'aprender', 'utilizada', 'em', 'diversos', 'campos,', 'desde',\n",
    "                  'análise', 'de', 'dados', 'até', 'inteligência', 'artificial!']"
   ]
  },
  {
   "cell_type": "code",
   "execution_count": 1,
   "id": "92bc2617",
   "metadata": {},
   "outputs": [
    {
     "name": "stdout",
     "output_type": "stream",
     "text": [
      "Nenhuma pontuação encontrada. Texto tratado corretamente.\n",
      "O texto apresenta pontuações na palavra \"poderosa,\".\n"
     ]
    },
    {
     "data": {
      "text/plain": [
       "False"
      ]
     },
     "execution_count": 1,
     "metadata": {},
     "output_type": "execute_result"
    }
   ],
   "source": [
    "def verifica_pontuacao(lista_palavras):\n",
    "    try:\n",
    "        for palavra in lista_palavras:\n",
    "            # Verifica se a palavra contém qualquer pontuação\n",
    "            if (',' in palavra) or ('.' in palavra) or ('!' in palavra) or ('?' in palavra):\n",
    "                raise ValueError(f'O texto apresenta pontuações na palavra \"{palavra}\".')\n",
    "    except ValueError as e:\n",
    "        print(e)\n",
    "        return False\n",
    "    else:\n",
    "        print(\"Nenhuma pontuação encontrada. Texto tratado corretamente.\")\n",
    "        return True\n",
    "\n",
    "# Testes\n",
    "lista_tratada = ['Python', 'é', 'uma', 'linguagem', 'de', 'programação', 'poderosa', 'versátil',\n",
    "                  'e', 'fácil', 'de', 'aprender', 'utilizada', 'em', 'diversos', 'campos', 'desde',\n",
    "                  'análise', 'de', 'dados', 'até', 'inteligência', 'artificial']\n",
    "\n",
    "lista_nao_tratada = ['Python', 'é', 'uma', 'linguagem', 'de', 'programação', 'poderosa,', 'versátil',\n",
    "                  'e', 'fácil,', 'de', 'aprender', 'utilizada', 'em', 'diversos', 'campos,', 'desde',\n",
    "                  'análise', 'de', 'dados', 'até', 'inteligência', 'artificial!']\n",
    "\n",
    "# Resultados\n",
    "verifica_pontuacao(lista_tratada)       # Deve retornar True\n",
    "verifica_pontuacao(lista_nao_tratada)   # Deve indicar as palavras com pontuação\n"
   ]
  },
  {
   "cell_type": "markdown",
   "id": "894f957e",
   "metadata": {},
   "source": [
    "✅ Explicação:\n",
    "\n",
    "for palavra in lista_palavras: → percorre cada palavra da lista.\n",
    "\n",
    "if (',' in palavra) or ('.' in palavra) or ('!' in palavra) or ('?' in palavra): → verifica a presença de pontuações.\n",
    "\n",
    "raise ValueError(...) → lança a exceção com a palavra encontrada.\n",
    "\n",
    "except ValueError as e: → captura a exceção e imprime a mensagem.\n",
    "\n",
    "else: → executa se não houver nenhuma pontuação, indicando que o texto está corretamente tratado."
   ]
  }
 ],
 "metadata": {
  "kernelspec": {
   "display_name": "Python 3",
   "language": "python",
   "name": "python3"
  },
  "language_info": {
   "codemirror_mode": {
    "name": "ipython",
    "version": 3
   },
   "file_extension": ".py",
   "mimetype": "text/x-python",
   "name": "python",
   "nbconvert_exporter": "python",
   "pygments_lexer": "ipython3",
   "version": "3.12.10"
  }
 },
 "nbformat": 4,
 "nbformat_minor": 5
}
