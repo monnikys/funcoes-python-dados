{
 "cells": [
  {
   "cell_type": "markdown",
   "id": "5776fcfb",
   "metadata": {},
   "source": [
    "Você recebeu o desafio de criar um código que calcula os gastos de uma viagem para um das quatro cidades partindo de Recife, sendo elas: Salvador, Fortaleza, Natal e Aracaju.\n",
    "\n",
    "O custo da diária do hotel é de 150 reais em todas elas e o consumo de gasolina na viagem de carro é de 14 km/l, sendo que o valor da gasolina é de 5 reais o litro. O gastos com passeios e alimentação a se fazer em cada uma delas por dia seria de [200, 400, 250, 300], respectivamente.\n",
    "\n",
    "Sabendo que as distâncias entre Recife e cada uma das cidades é de aproximadamente [850, 800, 300, 550] km, crie três funções nas quais: a 1ª função calcule os gastos com hotel (gasto_hotel), a 2ª calcule os gastos com a gasolina (gasto_gasolina) e a 3ª os gastos com passeio e alimentação (gasto_passeio).\n",
    "\n",
    "Para testar, simule uma viagem de 3 dias para Salvador partindo de Recife. Considere a viagem de ida e volta de carro.\n",
    "\n",
    "\"Com base nos gastos definidos, uma viagem de [dias] dias para [cidade] saindo de Recife custaria [gastos] reais\""
   ]
  },
  {
   "cell_type": "code",
   "execution_count": 1,
   "id": "39f89248",
   "metadata": {},
   "outputs": [
    {
     "name": "stdout",
     "output_type": "stream",
     "text": [
      "Com base nos gastos definidos, uma viagem de 3 dias para Salvador saindo de Recife custaria 1657.14 reais\n"
     ]
    }
   ],
   "source": [
    "# Dados fornecidos\n",
    "cidades = [\"Salvador\", \"Fortaleza\", \"Natal\", \"Aracaju\"]\n",
    "gastos_passeio = [200, 400, 250, 300]  # gastos por dia\n",
    "distancias = [850, 800, 300, 550]      # distância de ida (km)\n",
    "valor_diaria_hotel = 150\n",
    "consumo_gasolina_km_l = 14\n",
    "preco_gasolina_l = 5\n",
    "\n",
    "# Função que calcula o gasto com hotel\n",
    "def gasto_hotel(dias):\n",
    "    return valor_diaria_hotel * dias\n",
    "\n",
    "# Função que calcula o gasto com gasolina\n",
    "def gasto_gasolina(distancia):\n",
    "    # viagem de ida e volta\n",
    "    total_km = distancia * 2\n",
    "    litros_necessarios = total_km / consumo_gasolina_km_l\n",
    "    return litros_necessarios * preco_gasolina_l\n",
    "\n",
    "# Função que calcula gastos com passeio e alimentação\n",
    "def gasto_passeio(dias, indice_cidade):\n",
    "    return gastos_passeio[indice_cidade] * dias\n",
    "\n",
    "# Simulação: 3 dias para Salvador\n",
    "dias_viagem = 3\n",
    "indice_salvador = cidades.index(\"Salvador\")\n",
    "\n",
    "# Calcula os gastos\n",
    "total_hotel = gasto_hotel(dias_viagem)\n",
    "total_gasolina = gasto_gasolina(distancias[indice_salvador])\n",
    "total_passeio = gasto_passeio(dias_viagem, indice_salvador)\n",
    "\n",
    "gastos_totais = total_hotel + total_gasolina + total_passeio\n",
    "\n",
    "# Exibe o resultado\n",
    "print(f\"Com base nos gastos definidos, uma viagem de {dias_viagem} dias para Salvador saindo de Recife custaria {gastos_totais:.2f} reais\")\n"
   ]
  },
  {
   "cell_type": "markdown",
   "id": "28888a29",
   "metadata": {},
   "source": [
    "✅ Explicação:\n",
    "\n",
    "Gasto com hotel: multiplicamos a diária pelo número de dias.\n",
    "\n",
    "Gasto com gasolina: calculamos a distância total (ida e volta), dividimos pelo consumo do carro (km/l) e multiplicamos pelo preço do litro.\n",
    "\n",
    "Gasto com passeio e alimentação: multiplicamos o gasto diário da cidade pelo número de dias.\n",
    "\n",
    "Soma total: somamos os três valores para obter o custo total da viagem.\n",
    "\n",
    "O resultado é formatado com :.2f para mostrar duas casas decimais."
   ]
  }
 ],
 "metadata": {
  "kernelspec": {
   "display_name": "Python 3",
   "language": "python",
   "name": "python3"
  },
  "language_info": {
   "codemirror_mode": {
    "name": "ipython",
    "version": 3
   },
   "file_extension": ".py",
   "mimetype": "text/x-python",
   "name": "python",
   "nbconvert_exporter": "python",
   "pygments_lexer": "ipython3",
   "version": "3.12.10"
  }
 },
 "nbformat": 4,
 "nbformat_minor": 5
}
