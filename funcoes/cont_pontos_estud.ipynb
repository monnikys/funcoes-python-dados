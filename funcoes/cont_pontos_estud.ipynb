{
 "cells": [
  {
   "cell_type": "markdown",
   "id": "c31fa475",
   "metadata": {},
   "source": [
    "Como desafio, você recebeu a tarefa de desenvolver um código que contabiliza as pontuações de estudantes de uma instituição de ensino de acordo com suas respostas num teste. Este código deve ser testado para um exemplo de 3 estudantes com uma lista de listas em que cada lista possui as respostas de 5 questões objetivas de cada estudante. Cada questão vale um ponto e as alternativas possíveis são A, B, C ou D.\n",
    "\n",
    "Caso alguma alternativa em um dos testes não esteja entre as alternativas possíveis, você deve lançar um ValueError com a mensagem \"A alternativa [alternativa] não é uma opção de alternativa válida\". O cálculo das 3 notas só será realizado mediante as entradas com as alternativas A, B, C ou D em todos os testes. Se não for lançada a exceção, será exibida uma lista com as notas em cada teste.\n",
    "\n",
    "Os dados para o teste do código são:\n",
    "\n",
    "Gabarito da prova:\n",
    "gabarito = ['D', 'A', 'B', 'C', 'A']\n",
    "\n",
    "Abaixo temos 2 listas de listas que você pode usar como teste\n",
    "\n",
    "Notas sem exceção:\n",
    "testes_sem_ex = [['D', 'A', 'B', 'C', 'A'], ['C', 'A', 'A', 'C', 'A'], ['D', 'B', 'A', 'C', 'A']]\n",
    "\n",
    "Notas com exceção:\n",
    "testes_com_ex = [['D', 'A', 'B', 'C', 'A'], ['C', 'A', 'A', 'E', 'A'], ['D', 'B', 'A', 'C', 'A']]\n",
    "\n",
    "Dica: Para verificar se uma entrada da lista não está entre as alternativas possíveis, use a estrutura lista[i] not in ['A','B','C','D']. Por exemplo, 1 not in [2,3,4]... Saída: True."
   ]
  },
  {
   "cell_type": "code",
   "execution_count": 1,
   "id": "fa611c1c",
   "metadata": {},
   "outputs": [
    {
     "name": "stdout",
     "output_type": "stream",
     "text": [
      "Notas sem exceção: [5, 3, 3]\n",
      "A alternativa E não é uma opção de alternativa válida\n",
      "Notas com exceção: None\n"
     ]
    }
   ],
   "source": [
    "def calcula_notas(gabarito, testes):\n",
    "    notas = []\n",
    "    try:\n",
    "        for idx, teste in enumerate(testes):\n",
    "            # Verifica se todas as alternativas são válidas\n",
    "            for alt in teste:\n",
    "                if alt not in ['A', 'B', 'C', 'D']:\n",
    "                    raise ValueError(f\"A alternativa {alt} não é uma opção de alternativa válida\")\n",
    "            \n",
    "            # Calcula a nota do teste\n",
    "            nota = sum(1 for resp, gabar in zip(teste, gabarito) if resp == gabar)\n",
    "            notas.append(nota)\n",
    "    \n",
    "    except ValueError as e:\n",
    "        print(e)\n",
    "        return None\n",
    "    \n",
    "    return notas\n",
    "\n",
    "# Gabarito da prova\n",
    "gabarito = ['D', 'A', 'B', 'C', 'A']\n",
    "\n",
    "# Testes sem exceção\n",
    "testes_sem_ex = [['D', 'A', 'B', 'C', 'A'], \n",
    "                 ['C', 'A', 'A', 'C', 'A'], \n",
    "                 ['D', 'B', 'A', 'C', 'A']]\n",
    "\n",
    "# Testes com exceção\n",
    "testes_com_ex = [['D', 'A', 'B', 'C', 'A'], \n",
    "                 ['C', 'A', 'A', 'E', 'A'], \n",
    "                 ['D', 'B', 'A', 'C', 'A']]\n",
    "\n",
    "# Resultados\n",
    "print(\"Notas sem exceção:\", calcula_notas(gabarito, testes_sem_ex))\n",
    "print(\"Notas com exceção:\", calcula_notas(gabarito, testes_com_ex))\n"
   ]
  },
  {
   "cell_type": "markdown",
   "id": "82e7b5e8",
   "metadata": {},
   "source": [
    "✅ Explicação:\n",
    "\n",
    "for alt in teste: → percorre cada resposta do teste.\n",
    "\n",
    "if alt not in ['A','B','C','D']: → verifica se a alternativa é válida; se não, gera ValueError.\n",
    "\n",
    "sum(1 for resp, gabar in zip(teste, gabarito) if resp == gabar) → compara respostas com o gabarito e conta acertos.\n",
    "\n",
    "notas.append(nota) → adiciona a nota do teste à lista de resultados.\n",
    "\n",
    "except ValueError → captura qualquer erro de alternativa inválida e imprime a mensagem."
   ]
  }
 ],
 "metadata": {
  "kernelspec": {
   "display_name": "Python 3",
   "language": "python",
   "name": "python3"
  },
  "language_info": {
   "codemirror_mode": {
    "name": "ipython",
    "version": 3
   },
   "file_extension": ".py",
   "mimetype": "text/x-python",
   "name": "python",
   "nbconvert_exporter": "python",
   "pygments_lexer": "ipython3",
   "version": "3.12.10"
  }
 },
 "nbformat": 4,
 "nbformat_minor": 5
}
