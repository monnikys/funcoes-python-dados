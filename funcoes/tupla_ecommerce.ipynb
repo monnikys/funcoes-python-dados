{
 "cells": [
  {
   "cell_type": "markdown",
   "id": "d7adafd9",
   "metadata": {},
   "source": [
    "Um e-commerce possui as informações de id de venda, quantidade vendida e preço do produto divididos nas seguintes listas:\n",
    "\n",
    "id = [0, 1, 2, 3, 4, 5, 6, 7, 8, 9]\n",
    "quantidade = [15, 12, 1, 15, 2, 11, 2, 12, 2, 4]\n",
    "preco = [93.0, 102.0, 18.0, 41.0, 122.0, 14.0, 71.0, 48.0, 14.0, 144.0]\n",
    "\n",
    "O e-commerce precisa estruturar esses dados em uma tabela contendo o valor total da venda, que é obtida multiplicando a quantidade pelo preço unitário. Além disso, a tabela precisa conter um cabeçalho indicando as colunas: 'id', 'quantidade', 'preco' e 'total'.\n",
    "\n",
    "Crie uma lista de tuplas em que cada tupla tenha id, quantidade, preço e valor total, na qual a primeira tupla é o cabeçalho da tabela."
   ]
  },
  {
   "cell_type": "code",
   "execution_count": 1,
   "id": "4c27fd71",
   "metadata": {},
   "outputs": [
    {
     "name": "stdout",
     "output_type": "stream",
     "text": [
      "('id', 'quantidade', 'preco', 'total')\n",
      "(0, 15, 93.0, 1395.0)\n",
      "(1, 12, 102.0, 1224.0)\n",
      "(2, 1, 18.0, 18.0)\n",
      "(3, 15, 41.0, 615.0)\n",
      "(4, 2, 122.0, 244.0)\n",
      "(5, 11, 14.0, 154.0)\n",
      "(6, 2, 71.0, 142.0)\n",
      "(7, 12, 48.0, 576.0)\n",
      "(8, 2, 14.0, 28.0)\n",
      "(9, 4, 144.0, 576.0)\n"
     ]
    }
   ],
   "source": [
    "# Listas fornecidas\n",
    "id_venda = [0, 1, 2, 3, 4, 5, 6, 7, 8, 9]\n",
    "quantidade = [15, 12, 1, 15, 2, 11, 2, 12, 2, 4]\n",
    "preco = [93.0, 102.0, 18.0, 41.0, 122.0, 14.0, 71.0, 48.0, 14.0, 144.0]\n",
    "\n",
    "# Cria a lista de tuplas com id, quantidade, preço e total\n",
    "tabela_vendas = [('id', 'quantidade', 'preco', 'total')] + [\n",
    "    (i, q, p, q * p) for i, q, p in zip(id_venda, quantidade, preco)\n",
    "]\n",
    "\n",
    "# Exibe a tabela\n",
    "for linha in tabela_vendas:\n",
    "    print(linha)\n"
   ]
  },
  {
   "cell_type": "markdown",
   "id": "99559461",
   "metadata": {},
   "source": [
    "✅ Explicação:\n",
    "\n",
    "zip(id_venda, quantidade, preco) → combina os elementos das três listas em tuplas.\n",
    "\n",
    "(i, q, p, q * p) → cria cada tupla com id, quantidade, preço e cálculo do total.\n",
    "\n",
    "[('id', 'quantidade', 'preco', 'total')] + ... → adiciona o cabeçalho como primeira tupla."
   ]
  }
 ],
 "metadata": {
  "kernelspec": {
   "display_name": "Python 3",
   "language": "python",
   "name": "python3"
  },
  "language_info": {
   "codemirror_mode": {
    "name": "ipython",
    "version": 3
   },
   "file_extension": ".py",
   "mimetype": "text/x-python",
   "name": "python",
   "nbconvert_exporter": "python",
   "pygments_lexer": "ipython3",
   "version": "3.12.10"
  }
 },
 "nbformat": 4,
 "nbformat_minor": 5
}
