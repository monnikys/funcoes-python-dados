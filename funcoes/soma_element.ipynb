{
 "cells": [
  {
   "cell_type": "markdown",
   "id": "3f827ae2",
   "metadata": {},
   "source": [
    "Crie um código para imprimir a soma dos elementos de cada uma das listas contidas na seguinte lista:\n",
    "\n",
    "lista_de_listas = [[4,6,5,9], [1,0,7,2], [3,4,1,8]"
   ]
  },
  {
   "cell_type": "code",
   "execution_count": 1,
   "id": "b2b46348",
   "metadata": {},
   "outputs": [
    {
     "name": "stdout",
     "output_type": "stream",
     "text": [
      "Soma da lista 1: 24\n",
      "Soma da lista 2: 10\n",
      "Soma da lista 3: 16\n"
     ]
    }
   ],
   "source": [
    "# Lista de listas\n",
    "lista_de_listas = [[4,6,5,9], [1,0,7,2], [3,4,1,8]]\n",
    "\n",
    "# Percorre cada sublista e imprime a soma dos elementos\n",
    "for i, sublista in enumerate(lista_de_listas, start=1):\n",
    "    soma = sum(sublista)\n",
    "    print(f\"Soma da lista {i}: {soma}\")\n"
   ]
  },
  {
   "cell_type": "markdown",
   "id": "296b681d",
   "metadata": {},
   "source": [
    "✅ Explicação:\n",
    "\n",
    "enumerate(lista_de_listas, start=1) → percorre as sublistas, fornecendo o índice (começando em 1) e a sublista.\n",
    "\n",
    "sum(sublista) → calcula a soma dos elementos da sublista.\n",
    "\n",
    "print(f\"...\") → exibe a soma de cada sublista de forma organizada."
   ]
  }
 ],
 "metadata": {
  "kernelspec": {
   "display_name": "Python 3",
   "language": "python",
   "name": "python3"
  },
  "language_info": {
   "codemirror_mode": {
    "name": "ipython",
    "version": 3
   },
   "file_extension": ".py",
   "mimetype": "text/x-python",
   "name": "python",
   "nbconvert_exporter": "python",
   "pygments_lexer": "ipython3",
   "version": "3.12.10"
  }
 },
 "nbformat": 4,
 "nbformat_minor": 5
}
