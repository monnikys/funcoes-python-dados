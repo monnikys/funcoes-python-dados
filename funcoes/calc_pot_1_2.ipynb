{
 "cells": [
  {
   "cell_type": "markdown",
   "id": "ad22516e",
   "metadata": {},
   "source": [
    "Crie um programa que solicite à pessoa usuária digitar dois números inteiros e calcular a potência do 1º número elevado ao 2º."
   ]
  },
  {
   "cell_type": "markdown",
   "id": "7f2f067b",
   "metadata": {},
   "source": [
    "Dica: use a função pow() da biblioteca math"
   ]
  },
  {
   "cell_type": "code",
   "execution_count": 1,
   "id": "a17f3975",
   "metadata": {},
   "outputs": [
    {
     "name": "stdout",
     "output_type": "stream",
     "text": [
      "2 elevado a 2 é igual a 4.0\n"
     ]
    }
   ],
   "source": [
    "import math\n",
    "\n",
    "# Solicita os números\n",
    "base = int(input(\"Digite o primeiro número (base): \"))\n",
    "expoente = int(input(\"Digite o segundo número (expoente): \"))\n",
    "\n",
    "# Calcula a potência\n",
    "resultado = math.pow(base, expoente)\n",
    "\n",
    "print(f\"{base} elevado a {expoente} é igual a {resultado}\")\n"
   ]
  },
  {
   "cell_type": "markdown",
   "id": "c9b346f2",
   "metadata": {},
   "source": [
    "A função math.pow() sempre retorna um número do tipo float, mesmo que o resultado seja inteiro.\n",
    "Se quiser o resultado exatamente como inteiro quando aplicável, pode usar o operador ** ou a função pow() nativa do Python."
   ]
  },
  {
   "cell_type": "markdown",
   "id": "9910e16e",
   "metadata": {},
   "source": [
    "Aqui vai a versão alternativa usando o operador **, que retorna inteiro quando o resultado é exato:"
   ]
  },
  {
   "cell_type": "code",
   "execution_count": 2,
   "id": "2abcc9f5",
   "metadata": {},
   "outputs": [
    {
     "name": "stdout",
     "output_type": "stream",
     "text": [
      "2 elevado a 2 é igual a 4\n"
     ]
    }
   ],
   "source": [
    "# Solicita os números\n",
    "base = int(input(\"Digite o primeiro número (base): \"))\n",
    "expoente = int(input(\"Digite o segundo número (expoente): \"))\n",
    "\n",
    "# Calcula a potência usando **\n",
    "resultado = base ** expoente\n",
    "\n",
    "print(f\"{base} elevado a {expoente} é igual a {resultado}\")\n"
   ]
  }
 ],
 "metadata": {
  "kernelspec": {
   "display_name": "Python 3",
   "language": "python",
   "name": "python3"
  },
  "language_info": {
   "codemirror_mode": {
    "name": "ipython",
    "version": 3
   },
   "file_extension": ".py",
   "mimetype": "text/x-python",
   "name": "python",
   "nbconvert_exporter": "python",
   "pygments_lexer": "ipython3",
   "version": "3.12.10"
  }
 },
 "nbformat": 4,
 "nbformat_minor": 5
}
