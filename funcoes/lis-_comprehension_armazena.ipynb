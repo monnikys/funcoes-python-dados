{
 "cells": [
  {
   "cell_type": "markdown",
   "id": "9ba96ada",
   "metadata": {},
   "source": [
    "Crie uma lista usando o list comprehension que armazena somente o valor numérico de cada tupla caso o primeiro elemento seja 'Apartamento', a partir da seguinte lista de tuplas:\n",
    "\n",
    "aluguel = [('Apartamento', 1700), ('Apartamento', 1400), ('Casa', 2150), ('Apartamento', 1900), ('Casa', 1100)]"
   ]
  },
  {
   "cell_type": "code",
   "execution_count": 1,
   "id": "36ad7c82",
   "metadata": {},
   "outputs": [
    {
     "name": "stdout",
     "output_type": "stream",
     "text": [
      "[1700, 1400, 1900]\n"
     ]
    }
   ],
   "source": [
    "# Lista de aluguéis\n",
    "aluguel = [('Apartamento', 1700), ('Apartamento', 1400), ('Casa', 2150), ('Apartamento', 1900), ('Casa', 1100)]\n",
    "\n",
    "# Cria lista apenas com os valores de 'Apartamento'\n",
    "valores_apartamento = [valor for tipo, valor in aluguel if tipo == 'Apartamento']\n",
    "\n",
    "# Exibe o resultado\n",
    "print(valores_apartamento)\n"
   ]
  },
  {
   "cell_type": "markdown",
   "id": "010a3c28",
   "metadata": {},
   "source": [
    "✅ Explicação:\n",
    "\n",
    "O for tipo, valor in aluguel percorre cada tupla da lista.\n",
    "\n",
    "O if tipo == 'Apartamento' filtra somente os apartamentos.\n",
    "\n",
    "A list comprehension cria uma lista apenas com os valores numéricos."
   ]
  }
 ],
 "metadata": {
  "kernelspec": {
   "display_name": "Python 3",
   "language": "python",
   "name": "python3"
  },
  "language_info": {
   "codemirror_mode": {
    "name": "ipython",
    "version": 3
   },
   "file_extension": ".py",
   "mimetype": "text/x-python",
   "name": "python",
   "nbconvert_exporter": "python",
   "pygments_lexer": "ipython3",
   "version": "3.12.10"
  }
 },
 "nbformat": 4,
 "nbformat_minor": 5
}
