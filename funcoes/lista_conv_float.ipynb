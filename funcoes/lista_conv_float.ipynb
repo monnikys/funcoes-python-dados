{
 "cells": [
  {
   "cell_type": "markdown",
   "id": "b90a101c",
   "metadata": {},
   "source": [
    "Crie uma função que recebe uma lista como parâmetro e converta todos os valores da lista para float. A função deve conter um tratamento de erro indicando o tipo de erro gerado e retornar a lista caso não tenha ocorrido nenhum erro. Por fim, deve ter a cláusula finally para imprimir o texto: 'Fim da execução da função'."
   ]
  },
  {
   "cell_type": "code",
   "execution_count": 1,
   "id": "51ee22f3",
   "metadata": {},
   "outputs": [
    {
     "name": "stdout",
     "output_type": "stream",
     "text": [
      "Fim da execução da função\n",
      "[1.0, 2.5, 3.7]\n",
      "Erro: could not convert string to float: 'dois'\n",
      "Fim da execução da função\n",
      "None\n"
     ]
    }
   ],
   "source": [
    "def converte_para_float(lista):\n",
    "    try:\n",
    "        # Tenta converter todos os elementos para float\n",
    "        lista_float = [float(x) for x in lista]\n",
    "    except ValueError as e:\n",
    "        print(f\"Erro: {e}\")\n",
    "        return None\n",
    "    else:\n",
    "        return lista_float\n",
    "    finally:\n",
    "        print(\"Fim da execução da função\")\n",
    "\n",
    "# Exemplos de teste\n",
    "lista1 = ['1', '2.5', '3.7']\n",
    "lista2 = ['1', 'dois', '3.7']\n",
    "\n",
    "print(converte_para_float(lista1))  # Deve retornar [1.0, 2.5, 3.7]\n",
    "print(converte_para_float(lista2))  # Deve indicar erro\n"
   ]
  },
  {
   "cell_type": "markdown",
   "id": "3a26c658",
   "metadata": {},
   "source": [
    "✅ Explicação:\n",
    "\n",
    "try: → tenta converter todos os elementos da lista usando list comprehension.\n",
    "\n",
    "except ValueError as e: → captura erros caso algum elemento não seja convertível para float, mostrando a mensagem de erro.\n",
    "\n",
    "else: → retorna a lista convertida caso não haja erros.\n",
    "\n",
    "finally: → sempre executa, independentemente de ter ocorrido erro ou não, imprimindo uma mensagem de conclusão."
   ]
  }
 ],
 "metadata": {
  "kernelspec": {
   "display_name": "Python 3",
   "language": "python",
   "name": "python3"
  },
  "language_info": {
   "codemirror_mode": {
    "name": "ipython",
    "version": 3
   },
   "file_extension": ".py",
   "mimetype": "text/x-python",
   "name": "python",
   "nbconvert_exporter": "python",
   "pygments_lexer": "ipython3",
   "version": "3.12.10"
  }
 },
 "nbformat": 4,
 "nbformat_minor": 5
}
