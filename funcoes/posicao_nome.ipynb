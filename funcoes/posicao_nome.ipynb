{
 "cells": [
  {
   "cell_type": "markdown",
   "id": "6a36d3a9",
   "metadata": {},
   "source": [
    "A partir da lista: lista = ['Pedro', 'Júlia', 'Otávio', 'Eduardo'], crie um código para gerar uma lista de tuplas em que cada tupla tenha o primeiro elemento como a posição do nome na lista original e o segundo elemento sendo o próprio nome."
   ]
  },
  {
   "cell_type": "code",
   "execution_count": 1,
   "id": "395e4076",
   "metadata": {},
   "outputs": [
    {
     "name": "stdout",
     "output_type": "stream",
     "text": [
      "[(0, 'Pedro'), (1, 'Júlia'), (2, 'Otávio'), (3, 'Eduardo')]\n"
     ]
    }
   ],
   "source": [
    "# Lista original\n",
    "lista = ['Pedro', 'Júlia', 'Otávio', 'Eduardo']\n",
    "\n",
    "# Gera lista de tuplas (posição, nome)\n",
    "lista_tuplas = [(i, nome) for i, nome in enumerate(lista)]\n",
    "\n",
    "# Exibe o resultado\n",
    "print(lista_tuplas)\n"
   ]
  },
  {
   "cell_type": "markdown",
   "id": "733e7862",
   "metadata": {},
   "source": [
    "✅ Explicação:\n",
    "\n",
    "enumerate(lista) → fornece o índice i e o valor nome de cada elemento.\n",
    "\n",
    "A list comprehension cria tuplas (índice, nome)."
   ]
  }
 ],
 "metadata": {
  "kernelspec": {
   "display_name": "Python 3",
   "language": "python",
   "name": "python3"
  },
  "language_info": {
   "codemirror_mode": {
    "name": "ipython",
    "version": 3
   },
   "file_extension": ".py",
   "mimetype": "text/x-python",
   "name": "python",
   "nbconvert_exporter": "python",
   "pygments_lexer": "ipython3",
   "version": "3.12.10"
  }
 },
 "nbformat": 4,
 "nbformat_minor": 5
}
