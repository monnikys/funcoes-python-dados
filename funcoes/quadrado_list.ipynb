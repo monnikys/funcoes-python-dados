{
 "cells": [
  {
   "cell_type": "markdown",
   "id": "bc7efc98",
   "metadata": {},
   "source": [
    "## Crie uma lista dos quadrados dos números da seguinte lista [1, 2, 3, 4, 5, 6, 7, 8, 9, 10]. Lembre-se de utilizar as funções lambda e map() para calcular o quadrado de cada elemento da lista."
   ]
  },
  {
   "cell_type": "code",
   "execution_count": 1,
   "id": "2bb57f67",
   "metadata": {},
   "outputs": [
    {
     "name": "stdout",
     "output_type": "stream",
     "text": [
      "Quadrados dos números: [1, 4, 9, 16, 25, 36, 49, 64, 81, 100]\n"
     ]
    }
   ],
   "source": [
    "# Lista original\n",
    "numeros = [1, 2, 3, 4, 5, 6, 7, 8, 9, 10]\n",
    "\n",
    "# Calcula os quadrados usando lambda e map()\n",
    "quadrados = list(map(lambda x: x**2, numeros))\n",
    "\n",
    "print(\"Quadrados dos números:\", quadrados)\n"
   ]
  },
  {
   "cell_type": "markdown",
   "id": "5738e5ca",
   "metadata": {},
   "source": [
    "✅ Explicação:\n",
    "\n",
    "lambda x: x**2 → função anônima que calcula o quadrado de x.\n",
    "\n",
    "map() → aplica essa função a cada elemento da lista.\n",
    "\n",
    "list() → converte o resultado do map em uma lista."
   ]
  }
 ],
 "metadata": {
  "kernelspec": {
   "display_name": "Python 3",
   "language": "python",
   "name": "python3"
  },
  "language_info": {
   "codemirror_mode": {
    "name": "ipython",
    "version": 3
   },
   "file_extension": ".py",
   "mimetype": "text/x-python",
   "name": "python",
   "nbconvert_exporter": "python",
   "pygments_lexer": "ipython3",
   "version": "3.12.10"
  }
 },
 "nbformat": 4,
 "nbformat_minor": 5
}
