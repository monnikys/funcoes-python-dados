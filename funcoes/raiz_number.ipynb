{
 "cells": [
  {
   "cell_type": "markdown",
   "id": "6ac8c444",
   "metadata": {},
   "source": [
    "Você recebeu um desafio de calcular a raiz quadrada de uma lista de números, identificando quais resultaram em um número inteiro. A lista é a seguinte:"
   ]
  },
  {
   "cell_type": "markdown",
   "id": "bd03a43c",
   "metadata": {},
   "source": [
    "numeros = [2, 8, 15, 23, 91, 112, 256]"
   ]
  },
  {
   "cell_type": "code",
   "execution_count": 4,
   "id": "1db43490",
   "metadata": {},
   "outputs": [
    {
     "name": "stdout",
     "output_type": "stream",
     "text": [
      "A raiz quadrada de 2 é 1.41, que não é um número inteiro.\n",
      "A raiz quadrada de 8 é 2.83, que não é um número inteiro.\n",
      "A raiz quadrada de 15 é 3.87, que não é um número inteiro.\n",
      "A raiz quadrada de 23 é 4.80, que não é um número inteiro.\n",
      "A raiz quadrada de 91 é 9.54, que não é um número inteiro.\n",
      "A raiz quadrada de 112 é 10.58, que não é um número inteiro.\n",
      "A raiz quadrada de 256 é 16, que é um número inteiro.\n"
     ]
    }
   ],
   "source": [
    "import math\n",
    "\n",
    "# Lista de números\n",
    "numeros = [2, 8, 15, 23, 91, 112, 256]\n",
    "\n",
    "# Percorre a lista e verifica quais raízes são inteiras\n",
    "for numero in numeros:\n",
    "    raiz = math.sqrt(numero)\n",
    "    if raiz.is_integer():\n",
    "        print(f\"A raiz quadrada de {numero} é {int(raiz)}, que é um número inteiro.\")\n",
    "    else:\n",
    "        print(f\"A raiz quadrada de {numero} é {raiz:.2f}, que não é um número inteiro.\")\n"
   ]
  },
  {
   "cell_type": "markdown",
   "id": "7c60a32d",
   "metadata": {},
   "source": [
    "✅ Explicação:\n",
    "\n",
    "math.sqrt(numero) calcula a raiz quadrada.\n",
    "\n",
    "raiz.is_integer() retorna True se a raiz for um número inteiro.\n",
    "\n",
    ":.2f formata o número com 2 casas decimais para melhor visualização."
   ]
  },
  {
   "cell_type": "markdown",
   "id": "afa635d9",
   "metadata": {},
   "source": [
    "## No final, informe quais números possuem raízes inteiras e seus respectivos valores."
   ]
  },
  {
   "cell_type": "markdown",
   "id": "0944c40e",
   "metadata": {},
   "source": [
    "## Dica: use a comparação entre a divisão inteira (//) da raiz por 1 com o valor da raiz para verificar se o número é inteiro. Por exemplo:"
   ]
  },
  {
   "cell_type": "markdown",
   "id": "9067ad18",
   "metadata": {},
   "source": [
    "## num = 1.5\n",
    "## num_2 = 2\n",
    "## print(f'{num} é inteiro? :', num // 1 == num)\n",
    "## print(f'{num_2} é inteiro? :', num_2 // 1 == num_2)"
   ]
  },
  {
   "cell_type": "markdown",
   "id": "070b70fd",
   "metadata": {},
   "source": [
    "## Saída:\n",
    "\n",
    "## 1.5 é inteiro? : False\n",
    "## 2 é inteiro? : True"
   ]
  },
  {
   "cell_type": "code",
   "execution_count": null,
   "id": "2b1e0639",
   "metadata": {},
   "outputs": [
    {
     "name": "stdout",
     "output_type": "stream",
     "text": [
      "Números com raiz quadrada inteira e seus valores:\n",
      "256 → 16\n"
     ]
    },
    {
     "ename": "",
     "evalue": "",
     "output_type": "error",
     "traceback": [
      "\u001b[1;31mThe Kernel crashed while executing code in the current cell or a previous cell. \n",
      "\u001b[1;31mPlease review the code in the cell(s) to identify a possible cause of the failure. \n",
      "\u001b[1;31mClick <a href='https://aka.ms/vscodeJupyterKernelCrash'>here</a> for more info. \n",
      "\u001b[1;31mView Jupyter <a href='command:jupyter.viewOutput'>log</a> for further details."
     ]
    }
   ],
   "source": [
    "import math\n",
    "\n",
    "# Lista de números\n",
    "numeros = [2, 8, 15, 23, 91, 112, 256]\n",
    "\n",
    "# Lista para armazenar números com raiz inteira\n",
    "raizes_inteiras = []\n",
    "\n",
    "# Percorre a lista\n",
    "for numero in numeros:\n",
    "    raiz = math.sqrt(numero)\n",
    "    if raiz // 1 == raiz:  # Verifica se a raiz é inteira\n",
    "        raizes_inteiras.append((numero, int(raiz)))\n",
    "\n",
    "# Exibe os resultados\n",
    "if raizes_inteiras:\n",
    "    print(\"Números com raiz quadrada inteira e seus valores:\")\n",
    "    for numero, raiz in raizes_inteiras:\n",
    "        print(f\"{numero} → {raiz}\")\n",
    "else:\n",
    "    print(\"Nenhum número possui raiz quadrada inteira.\")\n"
   ]
  },
  {
   "cell_type": "markdown",
   "id": "453a7821",
   "metadata": {},
   "source": [
    "## ✅ Explicação:\n",
    "\n",
    "## math.sqrt(numero) calcula a raiz quadrada.\n",
    "\n",
    "## raiz // 1 == raiz verifica se a raiz é um número inteiro.\n",
    "\n",
    "## Armazenamos os resultados em uma lista de tuplas (número, raiz) e mostramos ao final."
   ]
  }
 ],
 "metadata": {
  "kernelspec": {
   "display_name": "Python 3",
   "language": "python",
   "name": "python3"
  },
  "language_info": {
   "codemirror_mode": {
    "name": "ipython",
    "version": 3
   },
   "file_extension": ".py",
   "mimetype": "text/x-python",
   "name": "python",
   "nbconvert_exporter": "python",
   "pygments_lexer": "ipython3",
   "version": "3.12.10"
  }
 },
 "nbformat": 4,
 "nbformat_minor": 5
}
