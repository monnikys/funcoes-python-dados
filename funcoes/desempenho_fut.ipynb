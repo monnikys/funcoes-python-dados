{
 "cells": [
  {
   "cell_type": "markdown",
   "id": "09c26cc4",
   "metadata": {},
   "source": [
    "Como cientista de dados em um time de futebol, você precisa implementar novas formas de coleta de dados sobre o desempenho de jogadores e do time como um todo. Sua primeira ação é criar uma forma de calcular a pontuação do time no campeonato nacional a partir dos dados de gols marcados e sofridos em cada jogo.\n",
    "\n",
    "Escreva uma função chamada calcula_pontos que recebe como parâmetros duas listas de números inteiros, representando os gols marcados e sofridos pelo time em cada partida do campeonato. A função deve retornar a pontuação do time e o aproveitamento em percentual, levando em consideração que a vitória vale 3 pontos, o empate vale 1 ponto e a derrota 0 pontos.\n",
    "\n",
    "Observação: se a quantidade de gols marcados numa partida for maior que a de sofridos, o time venceu. Caso seja igual, o time empatou e se for menor, o time perdeu. Para calcular o aproveitamento devemos fazer a razão entre a pontuação do time pela pontuação máxima que ele poderia receber.\n",
    "\n",
    "Para teste, utilize as seguintes listas de gols marcados e sofridos:\n",
    "\n",
    "gols_marcados = [2, 1, 3, 1, 0]\n",
    "gols_sofridos = [1, 2, 2, 1, 3]\n",
    "\n",
    "Provável texto exibido:\n",
    "\n",
    "\"A pontuação do time foi de [pontos] e seu aproveitamento foi de [aprov]%\""
   ]
  },
  {
   "cell_type": "code",
   "execution_count": 1,
   "id": "f2bd1e9d",
   "metadata": {},
   "outputs": [
    {
     "name": "stdout",
     "output_type": "stream",
     "text": [
      "A pontuação do time foi de 7 e seu aproveitamento foi de 46.67%\n"
     ]
    }
   ],
   "source": [
    "def calcula_pontos(gols_marcados, gols_sofridos):\n",
    "    pontos = 0\n",
    "    num_partidas = len(gols_marcados)\n",
    "    \n",
    "    # Calcula a pontuação\n",
    "    for gol_m, gol_s in zip(gols_marcados, gols_sofridos):\n",
    "        if gol_m > gol_s:       # Vitória\n",
    "            pontos += 3\n",
    "        elif gol_m == gol_s:    # Empate\n",
    "            pontos += 1\n",
    "        # Derrota → 0 pontos, não precisa adicionar\n",
    "    \n",
    "    # Pontuação máxima possível\n",
    "    pontos_max = num_partidas * 3\n",
    "    \n",
    "    # Calcula o aproveitamento em percentual\n",
    "    aproveitamento = (pontos / pontos_max) * 100\n",
    "    \n",
    "    return pontos, aproveitamento\n",
    "\n",
    "\n",
    "# Listas de teste\n",
    "gols_marcados = [2, 1, 3, 1, 0]\n",
    "gols_sofridos = [1, 2, 2, 1, 3]\n",
    "\n",
    "# Chamada da função\n",
    "pontos, aprov = calcula_pontos(gols_marcados, gols_sofridos)\n",
    "\n",
    "# Exibe o resultado\n",
    "print(f\"A pontuação do time foi de {pontos} e seu aproveitamento foi de {aprov:.2f}%\")\n"
   ]
  },
  {
   "cell_type": "markdown",
   "id": "32ce74a0",
   "metadata": {},
   "source": [
    "✅ Explicação:\n",
    "\n",
    "zip(gols_marcados, gols_sofridos) → percorre simultaneamente os gols marcados e sofridos de cada partida.\n",
    "\n",
    "Condições if/elif → definem vitória (3 pontos), empate (1 ponto) ou derrota (0 pontos).\n",
    "\n",
    "pontos_max = num_partidas * 3 → calcula a pontuação máxima possível.\n",
    "\n",
    "Aproveitamento em percentual: (pontos / pontos_max) * 100.\n",
    "\n",
    ":.2f → formata o aproveitamento com duas casas decimais."
   ]
  }
 ],
 "metadata": {
  "kernelspec": {
   "display_name": "Python 3",
   "language": "python",
   "name": "python3"
  },
  "language_info": {
   "codemirror_mode": {
    "name": "ipython",
    "version": 3
   },
   "file_extension": ".py",
   "mimetype": "text/x-python",
   "name": "python",
   "nbconvert_exporter": "python",
   "pygments_lexer": "ipython3",
   "version": "3.12.10"
  }
 },
 "nbformat": 4,
 "nbformat_minor": 5
}
