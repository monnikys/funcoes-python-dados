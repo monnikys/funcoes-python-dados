{
 "cells": [
  {
   "cell_type": "markdown",
   "id": "74dee016",
   "metadata": {},
   "source": [
    "Você foi contratado(a) como cientista de dados de uma associação de skate. Para analisar as notas recebidas de skatistas em algumas competições ao longo do ano, você precisa criar um código que calcula a pontuação dos(as) atletas. Para isso, o seu código deve receber 5 notas digitadas pelas pessoas juradas.\n",
    "\n",
    "Para calcular a pontuação de um(a) skatista, você precisa eliminar a maior e a menor pontuação dentre as 5 notas e tirar a média das 3 notas que sobraram. Retorne a média para apresentar o texto:\n",
    "\n",
    "\"Nota da manobra: [media]\""
   ]
  },
  {
   "cell_type": "code",
   "execution_count": 1,
   "id": "d7d581df",
   "metadata": {},
   "outputs": [
    {
     "name": "stdout",
     "output_type": "stream",
     "text": [
      "Nota da manobra: 7.00\n"
     ]
    }
   ],
   "source": [
    "# Solicita as 5 notas\n",
    "notas = []\n",
    "for i in range(5):\n",
    "    nota = float(input(f\"Digite a {i+1}ª nota: \"))\n",
    "    notas.append(nota)\n",
    "\n",
    "# Remove a maior e a menor nota\n",
    "notas.remove(max(notas))\n",
    "notas.remove(min(notas))\n",
    "\n",
    "# Calcula a média das 3 notas restantes\n",
    "media = sum(notas) / len(notas)\n",
    "\n",
    "# Exibe o resultado\n",
    "print(f\"Nota da manobra: {media:.2f}\")\n"
   ]
  },
  {
   "cell_type": "markdown",
   "id": "fb488d28",
   "metadata": {},
   "source": [
    "✅ Explicação:\n",
    "\n",
    "Armazenamos as 5 notas em uma lista.\n",
    "\n",
    "Usamos max() e min() para remover a maior e a menor nota.\n",
    "\n",
    "Calculamos a média com sum(notas) / len(notas).\n",
    "\n",
    "A saída é formatada com duas casas decimais."
   ]
  }
 ],
 "metadata": {
  "kernelspec": {
   "display_name": "Python 3",
   "language": "python",
   "name": "python3"
  },
  "language_info": {
   "codemirror_mode": {
    "name": "ipython",
    "version": 3
   },
   "file_extension": ".py",
   "mimetype": "text/x-python",
   "name": "python",
   "nbconvert_exporter": "python",
   "pygments_lexer": "ipython3",
   "version": "3.12.10"
  }
 },
 "nbformat": 4,
 "nbformat_minor": 5
}
