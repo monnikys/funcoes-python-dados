{
 "cells": [
  {
   "cell_type": "markdown",
   "id": "b998b675",
   "metadata": {},
   "source": [
    "Você recebeu uma demanda para gerar números de token para acessar o aplicativo de uma empresa. O token precisa ser par e variar de 1000 até 9998. Escreva um código que solicita à pessoa usuária o seu nome e exibe uma mensagem junto a esse token gerado aleatoriamente. "
   ]
  },
  {
   "cell_type": "markdown",
   "id": "74aae668",
   "metadata": {},
   "source": [
    "Olá, [nome], o seu token de acesso é [token]! Seja bem-vindo(a)!\""
   ]
  },
  {
   "cell_type": "code",
   "execution_count": 1,
   "id": "67384f14",
   "metadata": {},
   "outputs": [
    {
     "name": "stdout",
     "output_type": "stream",
     "text": [
      "Olá, Monniky, o seu token de acesso é 8318! Seja bem-vindo(a)!\n"
     ]
    }
   ],
   "source": [
    "import random\n",
    "\n",
    "# Solicita o nome do usuário\n",
    "nome = input(\"Digite seu nome: \")\n",
    "\n",
    "# Gera um token par aleatório entre 1000 e 9998\n",
    "token = random.randrange(1000, 9999, 2)  # passo 2 garante que seja par\n",
    "\n",
    "# Exibe a mensagem\n",
    "print(f\"Olá, {nome}, o seu token de acesso é {token}! Seja bem-vindo(a)!\")\n"
   ]
  },
  {
   "cell_type": "markdown",
   "id": "5123dd2b",
   "metadata": {},
   "source": [
    "✅ Explicação:\n",
    "\n",
    "random.randrange(início, fim, passo) gera números dentro do intervalo [início, fim) seguindo o passo indicado.\n",
    "\n",
    "Usando passo=2 e começando em 1000, garantimos que o token será sempre par."
   ]
  }
 ],
 "metadata": {
  "kernelspec": {
   "display_name": "Python 3",
   "language": "python",
   "name": "python3"
  },
  "language_info": {
   "codemirror_mode": {
    "name": "ipython",
    "version": 3
   },
   "file_extension": ".py",
   "mimetype": "text/x-python",
   "name": "python",
   "nbconvert_exporter": "python",
   "pygments_lexer": "ipython3",
   "version": "3.12.10"
  }
 },
 "nbformat": 4,
 "nbformat_minor": 5
}
