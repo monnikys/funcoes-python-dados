{
 "cells": [
  {
   "cell_type": "markdown",
   "id": "a8079a6f",
   "metadata": {},
   "source": [
    "Você foi contratado(a) como uma pessoa cientista de dados para auxiliar um laboratório que faz experimentos sobre o comportamento de uma cultura de fungos. O laboratório precisa avaliar constantemente a razão (divisão) entre os dados de pressão e temperatura do ambiente controlado recolhidos durante a experimentação para definir a melhor condição para os testes.\n",
    "\n",
    "Para cumprir com a demanda, você precisa criar uma função divide_colunas que recebe os dados das colunas de pressão e temperatura (que vem no formato de listas) e gerar uma nova coluna com o resultado da divisão. Os parâmetros da função são as duas listas e você deve tratar dentro dela ao menos 2 tipos de exceções:\n",
    "\n",
    "Verificar se as listas têm o mesmo tamanho (ValueError)\n",
    "Verificar se existe alguma divisão por zero (ZeroDivisionError)\n",
    "Para testar a função, vamos realizar a divisão entre duas listas de dados coletados no experimento, com os valores de pressão e temperatura do ambiente controlado.\n",
    "\n",
    "Como teste, use os seguintes dados:\n",
    "\n",
    "Dados sem exceção:\n",
    "pressoes = [100, 120, 140, 160, 180]\n",
    "temperaturas = [20, 25, 30, 35, 40]\n",
    "Copiar código\n",
    "Dados com exceção:\n",
    "1) Exceção de ZeroDivisionError\n",
    "\n",
    "pressoes = [60, 120, 140, 160, 180]\n",
    "temperaturas = [0, 25, 30, 35, 40]\n",
    "Copiar código\n",
    "2) Exceção de ValueError\n",
    "\n",
    "pressoes = [100, 120, 140, 160]\n",
    "temperaturas = [20, 25, 30, 35, 40]\n",
    "Copiar código\n",
    "Dica: Você pode usar zip() para parear os dados da lista_1 com a lista_2. Crie uma estrutura try-except que caso uma das exceções sejam lançadas, podemos ver o tipo de erro na saída."
   ]
  },
  {
   "cell_type": "code",
   "execution_count": 1,
   "id": "490bccc4",
   "metadata": {},
   "outputs": [
    {
     "name": "stdout",
     "output_type": "stream",
     "text": [
      "Resultados sem exceção: [5.0, 4.8, 4.666666666666667, 4.571428571428571, 4.5]\n",
      "Erro de divisão por zero: Divisão por zero detectada na lista de temperaturas.\n",
      "Teste ZeroDivisionError: None\n",
      "Erro de valor: As listas possuem tamanhos diferentes.\n",
      "Teste ValueError: None\n"
     ]
    }
   ],
   "source": [
    "def divide_colunas(pressao, temperatura):\n",
    "    try:\n",
    "        # Verifica se as listas têm o mesmo tamanho\n",
    "        if len(pressao) != len(temperatura):\n",
    "            raise ValueError(\"As listas possuem tamanhos diferentes.\")\n",
    "        \n",
    "        # Calcula a divisão pressão/temperatura\n",
    "        resultados = []\n",
    "        for p, t in zip(pressao, temperatura):\n",
    "            if t == 0:\n",
    "                raise ZeroDivisionError(\"Divisão por zero detectada na lista de temperaturas.\")\n",
    "            resultados.append(p / t)\n",
    "        \n",
    "        return resultados\n",
    "\n",
    "    except ValueError as e:\n",
    "        print(f\"Erro de valor: {e}\")\n",
    "        return None\n",
    "    except ZeroDivisionError as e:\n",
    "        print(f\"Erro de divisão por zero: {e}\")\n",
    "        return None\n",
    "\n",
    "# Testes\n",
    "\n",
    "# Dados sem exceção\n",
    "pressoes = [100, 120, 140, 160, 180]\n",
    "temperaturas = [20, 25, 30, 35, 40]\n",
    "print(\"Resultados sem exceção:\", divide_colunas(pressoes, temperaturas))\n",
    "# Saída esperada: [5.0, 4.8, 4.666..., 4.571..., 4.5]\n",
    "\n",
    "# Exceção ZeroDivisionError\n",
    "pressoes = [60, 120, 140, 160, 180]\n",
    "temperaturas = [0, 25, 30, 35, 40]\n",
    "print(\"Teste ZeroDivisionError:\", divide_colunas(pressoes, temperaturas))\n",
    "# Saída esperada: Erro de divisão por zero: Divisão por zero detectada na lista de temperaturas.\n",
    "\n",
    "# Exceção ValueError\n",
    "pressoes = [100, 120, 140, 160]\n",
    "temperaturas = [20, 25, 30, 35, 40]\n",
    "print(\"Teste ValueError:\", divide_colunas(pressoes, temperaturas))\n",
    "# Saída esperada: Erro de valor: As listas possuem tamanhos diferentes.\n"
   ]
  },
  {
   "cell_type": "markdown",
   "id": "054bff34",
   "metadata": {},
   "source": [
    "✅ Explicação:\n",
    "\n",
    "if len(pressao) != len(temperatura): → verifica se as listas possuem o mesmo tamanho, lançando ValueError caso contrário.\n",
    "\n",
    "if t == 0: → verifica se algum valor da temperatura é zero, lançando ZeroDivisionError.\n",
    "\n",
    "resultados.append(p / t) → realiza a divisão pressão/temperatura.\n",
    "\n",
    "except ValueError e except ZeroDivisionError → capturam e exibem o tipo de erro, evitando que o programa quebre."
   ]
  }
 ],
 "metadata": {
  "kernelspec": {
   "display_name": "Python 3",
   "language": "python",
   "name": "python3"
  },
  "language_info": {
   "codemirror_mode": {
    "name": "ipython",
    "version": 3
   },
   "file_extension": ".py",
   "mimetype": "text/x-python",
   "name": "python",
   "nbconvert_exporter": "python",
   "pygments_lexer": "ipython3",
   "version": "3.12.10"
  }
 },
 "nbformat": 4,
 "nbformat_minor": 5
}
