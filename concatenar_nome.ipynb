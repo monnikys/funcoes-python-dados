{
 "cells": [
  {
   "cell_type": "markdown",
   "id": "5a8d5e32",
   "metadata": {},
   "source": [
    "Você recebeu uma demanda para tratar 2 listas com os nomes e sobrenomes de cada estudante concatenando-as para apresentar seus nomes completos na forma Nome Sobrenome. As listas são:\n",
    "\n",
    "nomes = [\"joão\", \"MaRia\", \"JOSÉ\"]\n",
    "sobrenomes = [\"SILVA\", \"souza\", \"Tavares\"]\n",
    "\n",
    "O texto exibido ao fim deve ser parecido com:\n",
    "\n",
    "\"Nome completo: Ana Silva\"\n",
    "\n",
    "Dica: utilize a função map para mapear os nomes e sobrenomes e as funções de string para tratar o texto."
   ]
  },
  {
   "cell_type": "code",
   "execution_count": 2,
   "id": "3e7c49cc",
   "metadata": {},
   "outputs": [
    {
     "name": "stdout",
     "output_type": "stream",
     "text": [
      "Nome completo: João Silva\n",
      "Nome completo: Maria Souza\n",
      "Nome completo: José Tavares\n"
     ]
    }
   ],
   "source": [
    "# Listas fornecidas\n",
    "nomes = [\"joão\", \"MaRia\", \"JOSÉ\"]\n",
    "sobrenomes = [\"SILVA\", \"souza\", \"Tavares\"]\n",
    "\n",
    "# Usando map para unir nome + sobrenome e formatar\n",
    "nomes_completos = list(map(lambda n_s: f\"{n_s[0].capitalize()} {n_s[1].capitalize()}\",\n",
    "                           zip(nomes, sobrenomes)))\n",
    "\n",
    "# Exibir o resultado\n",
    "for nome in nomes_completos:\n",
    "    print(f\"Nome completo: {nome}\")\n"
   ]
  },
  {
   "cell_type": "markdown",
   "id": "42a3a12b",
   "metadata": {},
   "source": [
    "✅ Explicação:\n",
    "\n",
    "zip(nomes, sobrenomes) → une cada nome com o seu sobrenome em tuplas ((\"joão\", \"SILVA\"), etc.).\n",
    "\n",
    "map(lambda n_s: ..., zip(...)) → aplica a função lambda para cada tupla (nome, sobrenome).\n",
    "\n",
    "capitalize() → coloca a primeira letra em maiúscula e o resto em minúsculo.\n",
    "\n",
    "list(...) → converte o resultado do map em lista.\n",
    "\n",
    "O for imprime cada nome no formato solicitado: \"Nome completo: João Silva\"."
   ]
  }
 ],
 "metadata": {
  "kernelspec": {
   "display_name": "Python 3",
   "language": "python",
   "name": "python3"
  },
  "language_info": {
   "codemirror_mode": {
    "name": "ipython",
    "version": 3
   },
   "file_extension": ".py",
   "mimetype": "text/x-python",
   "name": "python",
   "nbconvert_exporter": "python",
   "pygments_lexer": "ipython3",
   "version": "3.12.10"
  }
 },
 "nbformat": 4,
 "nbformat_minor": 5
}
