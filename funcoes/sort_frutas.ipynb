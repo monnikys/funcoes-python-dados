{
 "cells": [
  {
   "cell_type": "markdown",
   "id": "32fac2b4",
   "metadata": {},
   "source": [
    "Para diversificar e atrair novos(as) clientes, uma lanchonete criou um item misterioso em seu cardápio chamado \"salada de frutas surpresa\". Neste item, são escolhidas aleatoriamente 3 frutas de uma lista de 12 para compor a salada de frutas da pessoa cliente. Crie o código que faça essa seleção aleatória de acordo com a lista abaixo:"
   ]
  },
  {
   "cell_type": "markdown",
   "id": "bffba8f2",
   "metadata": {},
   "source": [
    "## frutas = [\"maçã\", \"banana\", \"uva\", \"pêra\", \n",
    "##          \"manga\", \"coco\", \"melancia\", \"mamão\",\n",
    "##         \"laranja\", \"abacaxi\", \"kiwi\", \"ameixa\"]"
   ]
  },
  {
   "cell_type": "code",
   "execution_count": 1,
   "id": "2049cad2",
   "metadata": {},
   "outputs": [
    {
     "name": "stdout",
     "output_type": "stream",
     "text": [
      "Sua salada de frutas surpresa contém: mamão, maçã, melancia\n"
     ]
    }
   ],
   "source": [
    "import random\n",
    "\n",
    "# Lista de frutas\n",
    "frutas = [\"maçã\", \"banana\", \"uva\", \"pêra\", \n",
    "          \"manga\", \"coco\", \"melancia\", \"mamão\",\n",
    "          \"laranja\", \"abacaxi\", \"kiwi\", \"ameixa\"]\n",
    "\n",
    "# Seleciona 3 frutas aleatórias sem repetição\n",
    "salada = random.sample(frutas, 3)\n",
    "\n",
    "# Exibe o resultado\n",
    "print(\"Sua salada de frutas surpresa contém:\", \", \".join(salada))\n"
   ]
  },
  {
   "cell_type": "markdown",
   "id": "245e4ddd",
   "metadata": {},
   "source": [
    "✅ Explicação:\n",
    "\n",
    "random.sample(lista, k) retorna k elementos únicos escolhidos aleatoriamente da lista.\n",
    "\", \".join(salada) transforma a lista em uma string separada por vírgulas para exibição amigável."
   ]
  }
 ],
 "metadata": {
  "kernelspec": {
   "display_name": "Python 3",
   "language": "python",
   "name": "python3"
  },
  "language_info": {
   "codemirror_mode": {
    "name": "ipython",
    "version": 3
   },
   "file_extension": ".py",
   "mimetype": "text/x-python",
   "name": "python",
   "nbconvert_exporter": "python",
   "pygments_lexer": "ipython3",
   "version": "3.12.10"
  }
 },
 "nbformat": 4,
 "nbformat_minor": 5
}
