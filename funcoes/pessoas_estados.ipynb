{
 "cells": [
  {
   "cell_type": "markdown",
   "id": "d10203e5",
   "metadata": {},
   "source": [
    "Nessa mesma tabela de cadastro de filiais, há uma coluna com as informações da quantidade de pessoas colaboradoras e o(a) gestor(a) gostaria de ter um agrupamento da soma dessas pessoas para cada estado. As informações contidas na tabela são:\n",
    "\n",
    "funcionarios = [('SP', 16), ('ES', 8), ('MG', 9), ('MG', 6), ('SP', 10), ('MG', 4), ('ES',9), ('ES', 7), ('ES', 12), ('SP', 7), ('SP', 11), ('MG',8), ('ES',8), ('SP',9), ('RJ', 13), ('MG', 5), ('RJ', 9), ('SP', 12), ('MG', 10), ('SP', 7), ('ES', 14), ('SP', 10), ('MG', 12)]\n",
    "\n",
    "A partir da lista de tuplas, crie um dicionário em que as chaves são os nomes dos Estados únicos e os valores são as listas com o número de colaboradores(as) referentes ao Estado. Crie também um dicionário em que as chaves são os nomes dos Estados e os valores são a soma de colaboradores(as) por Estado.\n",
    "\n",
    "Dica: Você pode fazer um passo intermediário para gerar uma lista de listas em que cada uma das listas possui apenas os valores numéricos de funcionários(as) de cada Estado."
   ]
  },
  {
   "cell_type": "code",
   "execution_count": 1,
   "id": "d27ab2d8",
   "metadata": {},
   "outputs": [
    {
     "name": "stdout",
     "output_type": "stream",
     "text": [
      "Colaboradores por estado:\n",
      "{'SP': [16, 10, 7, 11, 9, 12, 7, 10], 'MG': [9, 6, 4, 8, 5, 10, 12], 'ES': [8, 9, 7, 12, 8, 14], 'RJ': [13, 9]}\n",
      "\n",
      "Soma de colaboradores por estado:\n",
      "{'SP': 82, 'MG': 54, 'ES': 58, 'RJ': 22}\n"
     ]
    }
   ],
   "source": [
    "# Lista de tuplas (estado, número de colaboradores)\n",
    "funcionarios = [\n",
    "    ('SP', 16), ('ES', 8), ('MG', 9), ('MG', 6), ('SP', 10), ('MG', 4), ('ES',9),\n",
    "    ('ES', 7), ('ES', 12), ('SP', 7), ('SP', 11), ('MG',8), ('ES',8), ('SP',9),\n",
    "    ('RJ', 13), ('MG', 5), ('RJ', 9), ('SP', 12), ('MG', 10), ('SP', 7), ('ES', 14),\n",
    "    ('SP', 10), ('MG', 12)\n",
    "]\n",
    "\n",
    "# Dicionário com listas de colaboradores por estado\n",
    "colaboradores_por_estado = {estado: [num for est, num in funcionarios if est == estado] for estado in set([est for est, _ in funcionarios])}\n",
    "\n",
    "# Dicionário com soma de colaboradores por estado\n",
    "soma_colaboradores = {estado: sum(colaboradores_por_estado[estado]) for estado in colaboradores_por_estado}\n",
    "\n",
    "# Exibe os resultados\n",
    "print(\"Colaboradores por estado:\")\n",
    "print(colaboradores_por_estado)\n",
    "print(\"\\nSoma de colaboradores por estado:\")\n",
    "print(soma_colaboradores)\n"
   ]
  },
  {
   "cell_type": "markdown",
   "id": "90136e87",
   "metadata": {},
   "source": [
    "✅ Explicação:\n",
    "\n",
    "set([est for est, _ in funcionarios]) → cria um conjunto de estados únicos.\n",
    "\n",
    "[num for est, num in funcionarios if est == estado] → para cada estado, cria uma lista com os números de colaboradores.\n",
    "\n",
    "{estado: sum(colaboradores_por_estado[estado]) for estado in colaboradores_por_estado} → soma os colaboradores de cada estado."
   ]
  }
 ],
 "metadata": {
  "kernelspec": {
   "display_name": "Python 3",
   "language": "python",
   "name": "python3"
  },
  "language_info": {
   "codemirror_mode": {
    "name": "ipython",
    "version": 3
   },
   "file_extension": ".py",
   "mimetype": "text/x-python",
   "name": "python",
   "nbconvert_exporter": "python",
   "pygments_lexer": "ipython3",
   "version": "3.12.10"
  }
 },
 "nbformat": 4,
 "nbformat_minor": 5
}
