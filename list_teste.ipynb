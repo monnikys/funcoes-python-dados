{
 "cells": [
  {
   "cell_type": "markdown",
   "id": "bf2985a1",
   "metadata": {},
   "source": [
    "Escreva um código que lê a lista abaixo e faça:"
   ]
  },
  {
   "cell_type": "markdown",
   "id": "14b7635e",
   "metadata": {},
   "source": [
    "lista = [16, 14, 63, 65, 17, 99, 70, 11, 20, 48, 79, 32, 17, 89, 12, 25, 66]"
   ]
  },
  {
   "cell_type": "markdown",
   "id": "03f285cd",
   "metadata": {},
   "source": [
    "A leitura do tamanho da lista\n",
    "A leitura do maior e menor valor\n",
    "A soma dos valores da lista"
   ]
  },
  {
   "cell_type": "markdown",
   "id": "76c3c5ad",
   "metadata": {},
   "source": [
    "Ao final exiba uma mensagem dizendo:"
   ]
  },
  {
   "cell_type": "markdown",
   "id": "44a56b23",
   "metadata": {},
   "source": [
    "\"A lista possui [tam] números em que o maior número é [maior] e o menor número é [menor]. A soma dos valores presentes nela é igual a [soma]\""
   ]
  },
  {
   "cell_type": "code",
   "execution_count": 1,
   "id": "b379aa2e",
   "metadata": {},
   "outputs": [
    {
     "name": "stdout",
     "output_type": "stream",
     "text": [
      "A lista possui 17 números em que o maior número é 99 e o menor número é 11. A soma dos valores presentes nela é igual a 743.\n"
     ]
    }
   ],
   "source": [
    "# Lista de números\n",
    "lista = [16, 14, 63, 65, 17, 99, 70, 11, 20, 48, 79, 32, 17, 89, 12, 25, 66]\n",
    "\n",
    "# Tamanho da lista\n",
    "tam = len(lista)\n",
    "\n",
    "# Maior e menor valor\n",
    "maior = max(lista)\n",
    "menor = min(lista)\n",
    "\n",
    "# Soma dos valores\n",
    "soma = sum(lista)\n",
    "\n",
    "# Exibe a mensagem final\n",
    "print(f\"A lista possui {tam} números em que o maior número é {maior} e o menor número é {menor}. A soma dos valores presentes nela é igual a {soma}.\")\n"
   ]
  },
  {
   "cell_type": "markdown",
   "id": "9cccc2d4",
   "metadata": {},
   "source": [
    "✅ Explicação:\n",
    "\n",
    "len(lista) → conta quantos elementos existem na lista.\n",
    "\n",
    "max(lista) → encontra o maior valor.\n",
    "\n",
    "min(lista) → encontra o menor valor.\n",
    "\n",
    "sum(lista) → soma todos os elementos."
   ]
  }
 ],
 "metadata": {
  "kernelspec": {
   "display_name": "Python 3",
   "language": "python",
   "name": "python3"
  },
  "language_info": {
   "codemirror_mode": {
    "name": "ipython",
    "version": 3
   },
   "file_extension": ".py",
   "mimetype": "text/x-python",
   "name": "python",
   "nbconvert_exporter": "python",
   "pygments_lexer": "ipython3",
   "version": "3.12.10"
  }
 },
 "nbformat": 4,
 "nbformat_minor": 5
}
