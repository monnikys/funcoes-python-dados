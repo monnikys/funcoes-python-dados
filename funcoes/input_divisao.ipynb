{
 "cells": [
  {
   "cell_type": "markdown",
   "id": "f837b94a",
   "metadata": {},
   "source": [
    "Faça um programa que solicite à pessoa usuária digitar dois números float e calcular a divisão entre esses números. O código deve conter um tratamento de erro, indicando o tipo de erro que foi gerado caso a divisão não seja possível de realizar.\n",
    "\n",
    "Teste o programa com o segundo valor numérico do input igual a 0. Também teste utilizando caracteres textuais no input para checar os tipos de erro que ocorrem."
   ]
  },
  {
   "cell_type": "code",
   "execution_count": 1,
   "id": "42997c36",
   "metadata": {},
   "outputs": [
    {
     "name": "stdout",
     "output_type": "stream",
     "text": [
      "O resultado da divisão é: 1.0\n"
     ]
    }
   ],
   "source": [
    "# Programa para dividir dois números com tratamento de erros\n",
    "try:\n",
    "    # Solicita os números\n",
    "    num1 = float(input(\"Digite o primeiro número: \"))\n",
    "    num2 = float(input(\"Digite o segundo número: \"))\n",
    "    \n",
    "    # Calcula a divisão\n",
    "    resultado = num1 / num2\n",
    "    \n",
    "except ZeroDivisionError:\n",
    "    print(\"Erro: Divisão por zero não é permitida.\")\n",
    "except ValueError:\n",
    "    print(\"Erro: Você deve digitar um número válido.\")\n",
    "else:\n",
    "    print(f\"O resultado da divisão é: {resultado}\")\n"
   ]
  },
  {
   "cell_type": "markdown",
   "id": "82bc1fe2",
   "metadata": {},
   "source": [
    "✅ Explicação:\n",
    "\n",
    "try: → bloco onde tentamos executar a divisão.\n",
    "\n",
    "except ZeroDivisionError: → captura o erro caso o segundo número seja 0.\n",
    "\n",
    "except ValueError: → captura erro caso a entrada não seja um número (ex.: letras).\n",
    "\n",
    "else: → executa se nenhum erro ocorreu, mostrando o resultado."
   ]
  },
  {
   "cell_type": "markdown",
   "id": "12157e14",
   "metadata": {},
   "source": [
    "Segundo valor 0:\n",
    "\n",
    "Digite o primeiro número: 10\n",
    "Digite o segundo número: 0\n",
    "Erro: Divisão por zero não é permitida.\n",
    "\n",
    "\n",
    "Entrada textual:\n",
    "\n",
    "Digite o primeiro número: 10\n",
    "Digite o segundo número: abc\n",
    "Erro: Você deve digitar um número válido.\n",
    "\n",
    "\n",
    "Entrada válida:\n",
    "\n",
    "Digite o primeiro número: 10\n",
    "Digite o segundo número: 2\n",
    "O resultado da divisão é: 5.0"
   ]
  }
 ],
 "metadata": {
  "kernelspec": {
   "display_name": "Python 3",
   "language": "python",
   "name": "python3"
  },
  "language_info": {
   "codemirror_mode": {
    "name": "ipython",
    "version": 3
   },
   "file_extension": ".py",
   "mimetype": "text/x-python",
   "name": "python",
   "nbconvert_exporter": "python",
   "pygments_lexer": "ipython3",
   "version": "3.12.10"
  }
 },
 "nbformat": 4,
 "nbformat_minor": 5
}
