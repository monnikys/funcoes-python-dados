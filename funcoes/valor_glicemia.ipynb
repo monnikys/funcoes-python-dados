{
 "cells": [
  {
   "cell_type": "markdown",
   "id": "5ddf410a",
   "metadata": {},
   "source": [
    "Uma clínica analisa dados de pacientes e armazena o valor numérico da glicose em um banco de dados e gostaria de rotular os dados da seguinte maneira:\n",
    "\n",
    "Glicose igual ou inferior a 70: 'Hipoglicemia'\n",
    "Glicose entre 70 a 99: 'Normal'\n",
    "Glicose entre 100 e 125: 'Alterada'\n",
    "Glicose superior a 125: 'Diabetes'\n",
    "A clínica disponibilizou parte dos valores e sua tarefa é criar uma lista de tuplas usando list comprehension contendo o rótulo e o valor da glicemia em cada tupla.\n",
    "\n",
    "glicemia = [129, 82, 60, 97, 101, 65, 62, 167, 87, 53, 58, 92, 66, 120, 109, 62, 86, 96, 103, 88, 155, 52, 89, 73]"
   ]
  },
  {
   "cell_type": "code",
   "execution_count": 1,
   "id": "0da0169b",
   "metadata": {},
   "outputs": [
    {
     "name": "stdout",
     "output_type": "stream",
     "text": [
      "[('Diabetes', 129), ('Normal', 82), ('Hipoglicemia', 60), ('Normal', 97), ('Alterada', 101), ('Hipoglicemia', 65), ('Hipoglicemia', 62), ('Diabetes', 167), ('Normal', 87), ('Hipoglicemia', 53), ('Hipoglicemia', 58), ('Normal', 92), ('Hipoglicemia', 66), ('Alterada', 120), ('Alterada', 109), ('Hipoglicemia', 62), ('Normal', 86), ('Normal', 96), ('Alterada', 103), ('Normal', 88), ('Diabetes', 155), ('Hipoglicemia', 52), ('Normal', 89), ('Normal', 73)]\n"
     ]
    }
   ],
   "source": [
    "# Lista de valores de glicemia\n",
    "glicemia = [129, 82, 60, 97, 101, 65, 62, 167, 87, 53, 58, 92, 66, 120, 109, 62, 86, 96, 103, 88, 155, 52, 89, 73]\n",
    "\n",
    "# Cria lista de tuplas (rótulo, valor)\n",
    "glicemia_rotulada = [\n",
    "    ('Hipoglicemia', valor) if valor <= 70 else\n",
    "    ('Normal', valor) if 71 <= valor <= 99 else\n",
    "    ('Alterada', valor) if 100 <= valor <= 125 else\n",
    "    ('Diabetes', valor)\n",
    "    for valor in glicemia\n",
    "]\n",
    "\n",
    "# Exibe o resultado\n",
    "print(glicemia_rotulada)\n"
   ]
  },
  {
   "cell_type": "markdown",
   "id": "412fbe39",
   "metadata": {},
   "source": [
    "✅ Explicação:\n",
    "\n",
    "Para cada valor em glicemia, aplicamos uma condição encadeada (if...elif...else) dentro do list comprehension.\n",
    "\n",
    "Cada tupla criada contém o rótulo correspondente e o valor da glicemia."
   ]
  }
 ],
 "metadata": {
  "kernelspec": {
   "display_name": "Python 3",
   "language": "python",
   "name": "python3"
  },
  "language_info": {
   "codemirror_mode": {
    "name": "ipython",
    "version": 3
   },
   "file_extension": ".py",
   "mimetype": "text/x-python",
   "name": "python",
   "nbconvert_exporter": "python",
   "pygments_lexer": "ipython3",
   "version": "3.12.10"
  }
 },
 "nbformat": 4,
 "nbformat_minor": 5
}
