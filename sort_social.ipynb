{
 "cells": [
  {
   "cell_type": "markdown",
   "id": "411ab8f9",
   "metadata": {},
   "source": [
    "Um programa deve ser escrito para sortear uma pessoa seguidora de uma rede social para ganhar um prêmio. A lista de participantes é numerada e devemos escolher aleatoriamente um número de acordo com a quantidade de participantes. Peça à pessoa usuária para fornecer o número de participantes do sorteio e devolva para ela o número sorteado."
   ]
  },
  {
   "cell_type": "code",
   "execution_count": 1,
   "id": "56864bf8",
   "metadata": {},
   "outputs": [
    {
     "name": "stdout",
     "output_type": "stream",
     "text": [
      "O número sorteado do vencedor é: 85\n"
     ]
    }
   ],
   "source": [
    "import random\n",
    "\n",
    "# Solicita o número de participantes\n",
    "num_participantes = int(input(\"Digite o número de participantes do sorteio: \"))\n",
    "\n",
    "# Sorteia um número aleatório entre 1 e o número de participantes\n",
    "vencedor = random.randint(1, num_participantes)\n",
    "\n",
    "print(f\"O número sorteado do vencedor é: {vencedor}\")\n"
   ]
  },
  {
   "cell_type": "markdown",
   "id": "e4a40979",
   "metadata": {},
   "source": [
    "✅ Explicação:\n",
    "\n",
    "random.randint(a, b) gera um número inteiro entre a e b, incluindo ambos os limites.\n",
    "\n",
    "Assim, se houver 50 participantes, ele vai sortear um número entre 1 e 50."
   ]
  }
 ],
 "metadata": {
  "kernelspec": {
   "display_name": "Python 3",
   "language": "python",
   "name": "python3"
  },
  "language_info": {
   "codemirror_mode": {
    "name": "ipython",
    "version": 3
   },
   "file_extension": ".py",
   "mimetype": "text/x-python",
   "name": "python",
   "nbconvert_exporter": "python",
   "pygments_lexer": "ipython3",
   "version": "3.12.10"
  }
 },
 "nbformat": 4,
 "nbformat_minor": 5
}
