{
 "cells": [
  {
   "cell_type": "markdown",
   "id": "99f6590f",
   "metadata": {},
   "source": [
    "Uma loja possui um banco de dados com a informação de venda de cada representante e de cada ano e precisa filtrar somente os dados do ano 2022 com venda maior do que 6000. A loja forneceu uma amostra contendo apenas as colunas com os anos e os valores de venda para que você ajude a realizar a filtragem dos dados a partir de um código:\n",
    "\n",
    "vendas = [('2023', 4093), ('2021', 4320), ('2021', 5959), ('2022', 8883), ('2023', 9859), ('2022', 5141), ('2022', 7688), ('2022', 9544), ('2023', 4794), ('2021', 7178), ('2022', 3030), ('2021', 7471), ('2022', 4226), ('2022', 8190), ('2021', 9680), ('2022', 5616)]\n",
    "\n",
    "Crie uma lista usando list comprehension para filtrar os valores de 2022 e que sejam maiores que 6000."
   ]
  },
  {
   "cell_type": "code",
   "execution_count": 2,
   "id": "1bee50b2",
   "metadata": {},
   "outputs": [
    {
     "name": "stdout",
     "output_type": "stream",
     "text": [
      "[8883, 7688, 9544, 8190]\n"
     ]
    }
   ],
   "source": [
    "# Lista de vendas\n",
    "vendas = [('2023', 4093), ('2021', 4320), ('2021', 5959), ('2022', 8883),\n",
    "          ('2023', 9859), ('2022', 5141), ('2022', 7688), ('2022', 9544),\n",
    "          ('2023', 4794), ('2021', 7178), ('2022', 3030), ('2021', 7471),\n",
    "          ('2022', 4226), ('2022', 8190), ('2021', 9680), ('2022', 5616)]\n",
    "\n",
    "# Filtra os valores do ano 2022 maiores que 6000\n",
    "valores_2022_maior_6000 = [valor for ano, valor in vendas if ano == '2022' and valor > 6000]\n",
    "\n",
    "# Exibe o resultado\n",
    "print(valores_2022_maior_6000)\n"
   ]
  },
  {
   "cell_type": "markdown",
   "id": "62c835f2",
   "metadata": {},
   "source": [
    "✅ Explicação:\n",
    "\n",
    "for ano, valor in vendas → percorre cada tupla da lista.\n",
    "\n",
    "if ano == '2022' and valor > 6000 → filtra apenas vendas de 2022 maiores que 6000.\n",
    "\n",
    "[valor for ...] → cria uma lista apenas com os valores filtrados."
   ]
  }
 ],
 "metadata": {
  "kernelspec": {
   "display_name": "Python 3",
   "language": "python",
   "name": "python3"
  },
  "language_info": {
   "codemirror_mode": {
    "name": "ipython",
    "version": 3
   },
   "file_extension": ".py",
   "mimetype": "text/x-python",
   "name": "python",
   "nbconvert_exporter": "python",
   "pygments_lexer": "ipython3",
   "version": "3.12.10"
  }
 },
 "nbformat": 4,
 "nbformat_minor": 5
}
