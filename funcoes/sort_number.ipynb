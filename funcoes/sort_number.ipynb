{
 "cells": [
  {
   "cell_type": "markdown",
   "id": "d986bd3b",
   "metadata": {},
   "source": [
    "Crie um programa que sorteia, aleatoriamente, um número inteiro positivo menor que 100."
   ]
  },
  {
   "cell_type": "markdown",
   "id": "b977200a",
   "metadata": {},
   "source": [
    "Dica: use a função randrange() da biblioteca random. Essa função recebe como parâmetro o valor limite para a escolha aleatória ou um intervalo se passado o limite mínimo e máximo. Por exemplo, randrange(5) gera valores inteiros menores que 5."
   ]
  },
  {
   "cell_type": "code",
   "execution_count": 1,
   "id": "ae928462",
   "metadata": {},
   "outputs": [
    {
     "name": "stdout",
     "output_type": "stream",
     "text": [
      "Número sorteado: 67\n"
     ]
    }
   ],
   "source": [
    "import random\n",
    "\n",
    "# Sorteia um número inteiro positivo menor que 100\n",
    "numero_sorteado = random.randrange(100)\n",
    "\n",
    "print(\"Número sorteado:\", numero_sorteado)\n"
   ]
  },
  {
   "cell_type": "markdown",
   "id": "e2771ff9",
   "metadata": {},
   "source": [
    "A função random.randrange(100) gera inteiros de 0 até 99.\n",
    "Se você quiser evitar o 0 e garantir apenas positivos de 1 até 99, pode escrever:"
   ]
  },
  {
   "cell_type": "code",
   "execution_count": 2,
   "id": "dbabfe15",
   "metadata": {},
   "outputs": [
    {
     "name": "stdout",
     "output_type": "stream",
     "text": [
      "Número sorteado: 61\n"
     ]
    }
   ],
   "source": [
    "import random\n",
    "\n",
    "numero_sorteado = random.randrange(1, 100)  # de 1 até 99\n",
    "print(\"Número sorteado:\", numero_sorteado)\n"
   ]
  }
 ],
 "metadata": {
  "kernelspec": {
   "display_name": "Python 3",
   "language": "python",
   "name": "python3"
  },
  "language_info": {
   "codemirror_mode": {
    "name": "ipython",
    "version": 3
   },
   "file_extension": ".py",
   "mimetype": "text/x-python",
   "name": "python",
   "nbconvert_exporter": "python",
   "pygments_lexer": "ipython3",
   "version": "3.12.10"
  }
 },
 "nbformat": 4,
 "nbformat_minor": 5
}
