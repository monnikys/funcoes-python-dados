{
 "cells": [
  {
   "cell_type": "markdown",
   "id": "2592b4da",
   "metadata": {},
   "source": [
    "Escreva uma função que gere a tabuada de um número inteiro de 1 a 10, de acordo com a escolha da pessoa usuária. Como exemplo, para o número 7, a tabuada deve ser mostrada no seguinte formato:"
   ]
  },
  {
   "cell_type": "markdown",
   "id": "353f8a2e",
   "metadata": {},
   "source": [
    "Tabuada do 7:\n",
    "7 x 0 = 0\n",
    "7 x 1 = 7\n",
    "[...]\n",
    "7 x 10 = 70"
   ]
  },
  {
   "cell_type": "code",
   "execution_count": 1,
   "id": "895ee102",
   "metadata": {},
   "outputs": [
    {
     "name": "stdout",
     "output_type": "stream",
     "text": [
      "Tabuada do 5:\n",
      "5 x 0 = 0\n",
      "5 x 1 = 5\n",
      "5 x 2 = 10\n",
      "5 x 3 = 15\n",
      "5 x 4 = 20\n",
      "5 x 5 = 25\n",
      "5 x 6 = 30\n",
      "5 x 7 = 35\n",
      "5 x 8 = 40\n",
      "5 x 9 = 45\n",
      "5 x 10 = 50\n"
     ]
    }
   ],
   "source": [
    "def tabuada(numero):\n",
    "    print(f\"Tabuada do {numero}:\")\n",
    "    for i in range(11):  # de 0 até 10\n",
    "        print(f\"{numero} x {i} = {numero * i}\")\n",
    "\n",
    "# Solicita o número ao usuário\n",
    "n = int(input(\"Digite um número inteiro para ver sua tabuada: \"))\n",
    "tabuada(n)\n"
   ]
  },
  {
   "cell_type": "markdown",
   "id": "1b84942c",
   "metadata": {},
   "source": [
    "✅ Explicação:\n",
    "\n",
    "A função tabuada(numero) recebe o número escolhido.\n",
    "\n",
    "O for i in range(11) vai de 0 até 10.\n",
    "\n",
    "Dentro do laço, imprime cada linha da tabuada."
   ]
  }
 ],
 "metadata": {
  "kernelspec": {
   "display_name": "Python 3",
   "language": "python",
   "name": "python3"
  },
  "language_info": {
   "codemirror_mode": {
    "name": "ipython",
    "version": 3
   },
   "file_extension": ".py",
   "mimetype": "text/x-python",
   "name": "python",
   "nbconvert_exporter": "python",
   "pygments_lexer": "ipython3",
   "version": "3.12.10"
  }
 },
 "nbformat": 4,
 "nbformat_minor": 5
}
