{
 "cells": [
  {
   "cell_type": "markdown",
   "id": "c57af790",
   "metadata": {},
   "source": [
    "Faça um programa que solicite à pessoa usuária digitar um texto que será uma chave a ser pesquisada no seguinte dicionário: idades = {'Júlia': 16, 'Carol': 23, 'Alberto': 19, 'Roberta': 17}, armazenando o resultado do valor em uma variável. O código deve conter um tratamento de erro KeyError, imprimindo a informação 'Nome não encontrado', caso ocorra o erro; e imprimir o valor caso não ocorra nenhum.\n",
    "\n",
    "Teste o programa com um nome presente em uma das chaves do dicionário e com um que não esteja no dicionário para verificar a mensagem de erro."
   ]
  },
  {
   "cell_type": "code",
   "execution_count": 2,
   "id": "5382b243",
   "metadata": {},
   "outputs": [
    {
     "name": "stdout",
     "output_type": "stream",
     "text": [
      "A idade de Carol é 23\n"
     ]
    }
   ],
   "source": [
    "# Dicionário fornecido\n",
    "idades = {'Júlia': 16, 'Carol': 23, 'Alberto': 19, 'Roberta': 17}\n",
    "\n",
    "# Programa para buscar idade\n",
    "try:\n",
    "    nome = input(\"Digite o nome a ser pesquisado: \")\n",
    "    idade = idades[nome]  # Tenta acessar o valor pelo nome\n",
    "except KeyError:\n",
    "    print(\"Nome não encontrado\")\n",
    "else:\n",
    "    print(f\"A idade de {nome} é {idade}\")\n"
   ]
  },
  {
   "cell_type": "markdown",
   "id": "c6a8aaa1",
   "metadata": {},
   "source": [
    "✅ Explicação:\n",
    "\n",
    "try: → tenta acessar o valor do dicionário usando a chave digitada.\n",
    "\n",
    "except KeyError: → captura o erro caso a chave não exista e imprime a mensagem de erro.\n",
    "\n",
    "else: → executa se nenhum erro ocorreu, mostrando a idade encontrada."
   ]
  },
  {
   "cell_type": "markdown",
   "id": "221f173f",
   "metadata": {},
   "source": [
    "Nome presente:\n",
    "\n",
    "Digite o nome a ser pesquisado: Júlia\n",
    "A idade de Júlia é 16\n",
    "\n",
    "\n",
    "Nome não presente:\n",
    "\n",
    "Digite o nome a ser pesquisado: Pedro\n",
    "Nome não encontrado"
   ]
  }
 ],
 "metadata": {
  "kernelspec": {
   "display_name": "Python 3",
   "language": "python",
   "name": "python3"
  },
  "language_info": {
   "codemirror_mode": {
    "name": "ipython",
    "version": 3
   },
   "file_extension": ".py",
   "mimetype": "text/x-python",
   "name": "python",
   "nbconvert_exporter": "python",
   "pygments_lexer": "ipython3",
   "version": "3.12.10"
  }
 },
 "nbformat": 4,
 "nbformat_minor": 5
}
