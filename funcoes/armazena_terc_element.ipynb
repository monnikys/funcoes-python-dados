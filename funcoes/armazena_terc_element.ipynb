{
 "cells": [
  {
   "cell_type": "markdown",
   "id": "45f63317",
   "metadata": {},
   "source": [
    "Crie um código para gerar uma lista que armazena o terceiro elemento de cada tupla contida na seguinte lista de tuplas:\n",
    "\n",
    "lista_de_tuplas = [('Pedro', 1.74, 81), ('Júlia', 1.65, 67), ('Otávio', 1.81, 83)]"
   ]
  },
  {
   "cell_type": "code",
   "execution_count": 1,
   "id": "f03241d5",
   "metadata": {},
   "outputs": [
    {
     "name": "stdout",
     "output_type": "stream",
     "text": [
      "[81, 67, 83]\n"
     ]
    }
   ],
   "source": [
    "# Lista de tuplas\n",
    "lista_de_tuplas = [('Pedro', 1.74, 81), ('Júlia', 1.65, 67), ('Otávio', 1.81, 83)]\n",
    "\n",
    "# Cria a lista com o terceiro elemento de cada tupla\n",
    "terceiros_elementos = [tupla[2] for tupla in lista_de_tuplas]\n",
    "\n",
    "# Exibe o resultado\n",
    "print(terceiros_elementos)\n"
   ]
  },
  {
   "cell_type": "markdown",
   "id": "855eebb5",
   "metadata": {},
   "source": [
    "✅ Explicação:\n",
    "\n",
    "tupla[2] → acessa o terceiro elemento da tupla (índice 2, já que a contagem começa em 0).\n",
    "\n",
    "A list comprehension [tupla[2] for tupla in lista_de_tuplas] → cria uma nova lista com esses valores.\n",
    "\n",
    "print() → exibe a lista final."
   ]
  }
 ],
 "metadata": {
  "kernelspec": {
   "display_name": "Python 3",
   "language": "python",
   "name": "python3"
  },
  "language_info": {
   "codemirror_mode": {
    "name": "ipython",
    "version": 3
   },
   "file_extension": ".py",
   "mimetype": "text/x-python",
   "name": "python",
   "nbconvert_exporter": "python",
   "pygments_lexer": "ipython3",
   "version": "3.12.10"
  }
 },
 "nbformat": 4,
 "nbformat_minor": 5
}
