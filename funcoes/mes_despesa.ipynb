{
 "cells": [
  {
   "cell_type": "markdown",
   "id": "ad6d487b",
   "metadata": {},
   "source": [
    "Crie um dicionário usando o dict comprehension em que as chaves estão na lista meses = ['Jan', 'Fev', 'Mar', 'Abr', 'Mai', 'Jun', 'Jul', 'Ago', 'Set', 'Out', 'Nov', 'Dez'] e os valores estão em despesa = [860, 490, 1010, 780, 900, 630, 590, 770, 620, 560, 840, 360]."
   ]
  },
  {
   "cell_type": "code",
   "execution_count": 1,
   "id": "ab3b10bb",
   "metadata": {},
   "outputs": [
    {
     "name": "stdout",
     "output_type": "stream",
     "text": [
      "{'Jan': 860, 'Fev': 490, 'Mar': 1010, 'Abr': 780, 'Mai': 900, 'Jun': 630, 'Jul': 590, 'Ago': 770, 'Set': 620, 'Out': 560, 'Nov': 840, 'Dez': 360}\n"
     ]
    }
   ],
   "source": [
    "# Listas fornecidas\n",
    "meses = ['Jan', 'Fev', 'Mar', 'Abr', 'Mai', 'Jun', 'Jul', 'Ago', 'Set', 'Out', 'Nov', 'Dez']\n",
    "despesa = [860, 490, 1010, 780, 900, 630, 590, 770, 620, 560, 840, 360]\n",
    "\n",
    "# Cria o dicionário usando dict comprehension\n",
    "despesas_por_mes = {mes: valor for mes, valor in zip(meses, despesa)}\n",
    "\n",
    "# Exibe o resultado\n",
    "print(despesas_por_mes)\n"
   ]
  },
  {
   "cell_type": "markdown",
   "id": "fde56d6e",
   "metadata": {},
   "source": [
    "✅ Explicação:\n",
    "\n",
    "zip(meses, despesa) → combina cada mês com o valor correspondente de despesa.\n",
    "\n",
    "{mes: valor for mes, valor in zip(...)} → cria o dicionário, atribuindo cada mes como chave e valor como valor."
   ]
  }
 ],
 "metadata": {
  "kernelspec": {
   "display_name": "Python 3",
   "language": "python",
   "name": "python3"
  },
  "language_info": {
   "codemirror_mode": {
    "name": "ipython",
    "version": 3
   },
   "file_extension": ".py",
   "mimetype": "text/x-python",
   "name": "python",
   "nbconvert_exporter": "python",
   "pygments_lexer": "ipython3",
   "version": "3.12.10"
  }
 },
 "nbformat": 4,
 "nbformat_minor": 5
}
