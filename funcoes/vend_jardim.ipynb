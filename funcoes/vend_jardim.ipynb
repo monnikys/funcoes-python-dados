{
 "cells": [
  {
   "cell_type": "markdown",
   "id": "202051f0",
   "metadata": {},
   "source": [
    "Faça um programa para uma loja que vende grama para jardins. Essa loja trabalha com jardins circulares e o preço do metro quadrado da grama é de R$ 25,00. Peça à pessoa usuária o raio da área circular e devolva o valor em reais do quanto precisará pagar."
   ]
  },
  {
   "cell_type": "markdown",
   "id": "b3c78bd6",
   "metadata": {},
   "source": [
    "Dica: use a variável pi e o método pow() da biblioteca math. O cálculo da área de um círculo é de: A = π*r^2 (lê-se pi vezes raio ao quadrado)."
   ]
  },
  {
   "cell_type": "code",
   "execution_count": 1,
   "id": "dae21d59",
   "metadata": {},
   "outputs": [
    {
     "name": "stdout",
     "output_type": "stream",
     "text": [
      "O valor a pagar pela grama é: R$ 7853.98\n"
     ]
    }
   ],
   "source": [
    "import math\n",
    "\n",
    "# Preço do metro quadrado\n",
    "preco_m2 = 25.0\n",
    "\n",
    "# Solicita o raio do jardim\n",
    "raio = float(input(\"Digite o raio do jardim em metros: \"))\n",
    "\n",
    "# Calcula a área do círculo usando math.pi e math.pow()\n",
    "area = math.pi * math.pow(raio, 2)\n",
    "\n",
    "# Calcula o valor total\n",
    "valor_total = area * preco_m2\n",
    "\n",
    "# Exibe o resultado\n",
    "print(f\"O valor a pagar pela grama é: R$ {valor_total:.2f}\")\n"
   ]
  },
  {
   "cell_type": "markdown",
   "id": "f3c45058",
   "metadata": {},
   "source": [
    "✅ Explicação:\n",
    "\n",
    "math.pi fornece o valor de π.\n",
    "\n",
    "math.pow(raio, 2) calcula o raio ao quadrado.\n",
    "\n",
    ":.2f formata o valor total para duas casas decimais, deixando como moeda."
   ]
  }
 ],
 "metadata": {
  "kernelspec": {
   "display_name": "Python 3",
   "language": "python",
   "name": "python3"
  },
  "language_info": {
   "codemirror_mode": {
    "name": "ipython",
    "version": 3
   },
   "file_extension": ".py",
   "mimetype": "text/x-python",
   "name": "python",
   "nbconvert_exporter": "python",
   "pygments_lexer": "ipython3",
   "version": "3.12.10"
  }
 },
 "nbformat": 4,
 "nbformat_minor": 5
}
