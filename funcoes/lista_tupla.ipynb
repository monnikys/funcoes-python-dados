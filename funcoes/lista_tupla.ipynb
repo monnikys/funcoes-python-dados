{
 "cells": [
  {
   "cell_type": "markdown",
   "id": "91e1f060",
   "metadata": {},
   "source": [
    "Crie uma função que recebe duas listas como parâmetros e agrupe os elementos um a um das listas, formando uma lista de tuplas de 3 elementos, no qual o primeiro e segundo elemento da tupla são os valores na posição i das listas e o terceiro elemento é a soma dos valores na posição i das listas.\n",
    "\n",
    "A função deve conter um tratamento de erro indicando o tipo de erro gerado e retornar como resultado a lista de tuplas. Caso as listas enviadas como parâmetro tenham tamanhos diferentes, a função deve retornar um IndexError com a frase: 'A quantidade de elementos em cada lista é diferente.' Dados para testar a função:\n",
    "\n",
    "Valores sem erro:\n",
    "lista1 = [4,6,7,9,10]\n",
    "lista2 = [-4,6,8,7,9]\n",
    "\n",
    "Listas com tamanhos diferentes:\n",
    "lista1 = [4,6,7,9,10,4]\n",
    "lista2 = [-4,6,8,7,9]\n",
    "\n",
    "Listas com valores incoerentes:\n",
    "lista1 = [4,6,7,9,'A']\n",
    "lista2 = [-4,'E',8,7,9]"
   ]
  },
  {
   "cell_type": "code",
   "execution_count": 1,
   "id": "8c74f06e",
   "metadata": {},
   "outputs": [
    {
     "name": "stdout",
     "output_type": "stream",
     "text": [
      "[(4, -4, 0), (6, 6, 12), (7, 8, 15), (9, 7, 16), (10, 9, 19)]\n",
      "Erro de índice: A quantidade de elementos em cada lista é diferente.\n",
      "None\n",
      "Erro de tipo: unsupported operand type(s) for +: 'int' and 'str'\n",
      "None\n"
     ]
    }
   ],
   "source": [
    "def agrupa_somas(lista1, lista2):\n",
    "    try:\n",
    "        # Verifica se as listas têm o mesmo tamanho\n",
    "        if len(lista1) != len(lista2):\n",
    "            raise IndexError(\"A quantidade de elementos em cada lista é diferente.\")\n",
    "        \n",
    "        # Cria a lista de tuplas (valor1, valor2, soma)\n",
    "        resultado = [(a, b, a + b) for a, b in zip(lista1, lista2)]\n",
    "    \n",
    "    except IndexError as e:\n",
    "        print(f\"Erro de índice: {e}\")\n",
    "        return None\n",
    "    except TypeError as e:\n",
    "        print(f\"Erro de tipo: {e}\")\n",
    "        return None\n",
    "    else:\n",
    "        return resultado\n",
    "\n",
    "# Testes\n",
    "\n",
    "# Valores sem erro\n",
    "lista1 = [4,6,7,9,10]\n",
    "lista2 = [-4,6,8,7,9]\n",
    "print(agrupa_somas(lista1, lista2))\n",
    "# Saída esperada: [(4, -4, 0), (6, 6, 12), (7, 8, 15), (9, 7, 16), (10, 9, 19)]\n",
    "\n",
    "# Listas com tamanhos diferentes\n",
    "lista1 = [4,6,7,9,10,4]\n",
    "lista2 = [-4,6,8,7,9]\n",
    "print(agrupa_somas(lista1, lista2))\n",
    "# Saída esperada: Erro de índice: A quantidade de elementos em cada lista é diferente.\n",
    "\n",
    "# Listas com valores incoerentes\n",
    "lista1 = [4,6,7,9,'A']\n",
    "lista2 = [-4,'E',8,7,9]\n",
    "print(agrupa_somas(lista1, lista2))\n",
    "# Saída esperada: Erro de tipo: unsupported operand type(s) for +: 'int' and 'str'\n"
   ]
  },
  {
   "cell_type": "markdown",
   "id": "6653b25b",
   "metadata": {},
   "source": [
    "✅ Explicação:\n",
    "\n",
    "if len(lista1) != len(lista2): → verifica se as listas têm o mesmo tamanho, gerando IndexError se não tiverem.\n",
    "\n",
    "[(a, b, a + b) for a, b in zip(lista1, lista2)] → cria a lista de tuplas combinando os elementos das listas e calculando a soma.\n",
    "\n",
    "except IndexError → captura erro caso as listas tenham tamanhos diferentes.\n",
    "\n",
    "except TypeError → captura erro caso os elementos não sejam compatíveis para soma.\n",
    "\n",
    "else → retorna a lista de tuplas se não houver erros."
   ]
  }
 ],
 "metadata": {
  "kernelspec": {
   "display_name": "Python 3",
   "language": "python",
   "name": "python3"
  },
  "language_info": {
   "codemirror_mode": {
    "name": "ipython",
    "version": 3
   },
   "file_extension": ".py",
   "mimetype": "text/x-python",
   "name": "python",
   "nbconvert_exporter": "python",
   "pygments_lexer": "ipython3",
   "version": "3.12.10"
  }
 },
 "nbformat": 4,
 "nbformat_minor": 5
}
